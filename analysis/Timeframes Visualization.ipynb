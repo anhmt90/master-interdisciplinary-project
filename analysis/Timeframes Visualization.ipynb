{
 "cells": [
  {
   "cell_type": "code",
   "execution_count": 1,
   "metadata": {},
   "outputs": [],
   "source": [
    "%load_ext autoreload\n",
    "%autoreload 2"
   ]
  },
  {
   "cell_type": "code",
   "execution_count": 2,
   "metadata": {
    "colab": {},
    "colab_type": "code",
    "executionInfo": {
     "elapsed": 642,
     "status": "ok",
     "timestamp": 1598985529877,
     "user": {
      "displayName": "Mã Anh",
      "photoUrl": "https://lh3.googleusercontent.com/a-/AOh14Gh3Kp9dwYudF7n2jVKH-Q-yrEPxD72BqHgcul_2Mg=s64",
      "userId": "06592296059947736632"
     },
     "user_tz": -120
    },
    "id": "9S6oTpUTDafH"
   },
   "outputs": [],
   "source": [
    "import pickle\n",
    "import collections\n",
    "from os.path import join\n",
    "\n",
    "import os\n",
    "import sys\n",
    "\n",
    "module_path = os.path.abspath(os.path.join('..'))\n",
    "if module_path not in sys.path:\n",
    "    sys.path.append(module_path)\n",
    "\n",
    "from config import TIMEFRAMES_VISUALIZATION_PARAMS as PARAM\n",
    "\n",
    "TimeFrame = collections.namedtuple('TimeFrame', ['category', 'employer', 'start', 'end'])"
   ]
  },
  {
   "cell_type": "code",
   "execution_count": 3,
   "metadata": {
    "colab": {},
    "colab_type": "code",
    "executionInfo": {
     "elapsed": 543,
     "status": "ok",
     "timestamp": 1598985531045,
     "user": {
      "displayName": "Mã Anh",
      "photoUrl": "https://lh3.googleusercontent.com/a-/AOh14Gh3Kp9dwYudF7n2jVKH-Q-yrEPxD72BqHgcul_2Mg=s64",
      "userId": "06592296059947736632"
     },
     "user_tz": -120
    },
    "id": "UqH_rdhCGsIg"
   },
   "outputs": [],
   "source": [
    "import altair as alt\n",
    "import pandas as pd\n",
    "import datetime as dt\n",
    "\n",
    "# noinspection JupyterPackage\n",
    "def get_timeline_df(timeline, acq_date):\n",
    "    \"\"\"\n",
    "    Converts a list of TimeFrame tuples to pandas.DataFrame with an additional column of acquisition date \n",
    "    Args:\n",
    "        timeline (list<TimeFrame>): a time line, which is a list of TimeFrame tuples  \n",
    "        acq_date (datetime): the datetime object representing the acquisition date \n",
    "\n",
    "    Returns:\n",
    "        (pandas.DataFrame): the pandas.DataFrame with each row a TimeFrame tuple and each column an element in \n",
    "                            the tuple together with the acquisition date column   \n",
    "    \"\"\"\n",
    "    df = pd.DataFrame()\n",
    "\n",
    "    df['start'] = [tf.start for tf in timeline]\n",
    "    # print([tf.start.strftime(\"%Y-%m-%d\") for tf in timeline])\n",
    "\n",
    "    df['end'] = [tf.end for tf in timeline]\n",
    "    # print([tf.end.strftime(\"%b %Y\") for tf in timeline])\n",
    "\n",
    "    df['category'] = [tf.category for tf in timeline]\n",
    "    df['acq_date'] = [acq_date for tf in timeline]\n",
    "    df['cat'] = [f'{t:02d}' for t, tf in enumerate(timeline)]\n",
    "    return df"
   ]
  },
  {
   "cell_type": "code",
   "execution_count": 4,
   "metadata": {
    "colab": {
     "base_uri": "https://localhost:8080/",
     "height": 1000
    },
    "colab_type": "code",
    "executionInfo": {
     "elapsed": 949,
     "status": "ok",
     "timestamp": 1598988690243,
     "user": {
      "displayName": "Mã Anh",
      "photoUrl": "https://lh3.googleusercontent.com/a-/AOh14Gh3Kp9dwYudF7n2jVKH-Q-yrEPxD72BqHgcul_2Mg=s64",
      "userId": "06592296059947736632"
     },
     "user_tz": -120
    },
    "id": "VhtJvy-VJQSe",
    "outputId": "ef64eee5-0ac5-468f-b9ce-f0012670c0c1"
   },
   "outputs": [
    {
     "data": {
      "text/html": [
       "\n",
       "<div id=\"altair-viz-a3d8696ace73489aa89113ca7dd31d73\"></div>\n",
       "<script type=\"text/javascript\">\n",
       "  (function(spec, embedOpt){\n",
       "    let outputDiv = document.currentScript.previousElementSibling;\n",
       "    if (outputDiv.id !== \"altair-viz-a3d8696ace73489aa89113ca7dd31d73\") {\n",
       "      outputDiv = document.getElementById(\"altair-viz-a3d8696ace73489aa89113ca7dd31d73\");\n",
       "    }\n",
       "    const paths = {\n",
       "      \"vega\": \"https://cdn.jsdelivr.net/npm//vega@5?noext\",\n",
       "      \"vega-lib\": \"https://cdn.jsdelivr.net/npm//vega-lib?noext\",\n",
       "      \"vega-lite\": \"https://cdn.jsdelivr.net/npm//vega-lite@4.8.1?noext\",\n",
       "      \"vega-embed\": \"https://cdn.jsdelivr.net/npm//vega-embed@6?noext\",\n",
       "    };\n",
       "\n",
       "    function loadScript(lib) {\n",
       "      return new Promise(function(resolve, reject) {\n",
       "        var s = document.createElement('script');\n",
       "        s.src = paths[lib];\n",
       "        s.async = true;\n",
       "        s.onload = () => resolve(paths[lib]);\n",
       "        s.onerror = () => reject(`Error loading script: ${paths[lib]}`);\n",
       "        document.getElementsByTagName(\"head\")[0].appendChild(s);\n",
       "      });\n",
       "    }\n",
       "\n",
       "    function showError(err) {\n",
       "      outputDiv.innerHTML = `<div class=\"error\" style=\"color:red;\">${err}</div>`;\n",
       "      throw err;\n",
       "    }\n",
       "\n",
       "    function displayChart(vegaEmbed) {\n",
       "      vegaEmbed(outputDiv, spec, embedOpt)\n",
       "        .catch(err => showError(`Javascript Error: ${err.message}<br>This usually means there's a typo in your chart specification. See the javascript console for the full traceback.`));\n",
       "    }\n",
       "\n",
       "    if(typeof define === \"function\" && define.amd) {\n",
       "      requirejs.config({paths});\n",
       "      require([\"vega-embed\"], displayChart, err => showError(`Error loading script: ${err.message}`));\n",
       "    } else if (typeof vegaEmbed === \"function\") {\n",
       "      displayChart(vegaEmbed);\n",
       "    } else {\n",
       "      loadScript(\"vega\")\n",
       "        .then(() => loadScript(\"vega-lite\"))\n",
       "        .then(() => loadScript(\"vega-embed\"))\n",
       "        .catch(showError)\n",
       "        .then(() => displayChart(vegaEmbed));\n",
       "    }\n",
       "  })({\"config\": {\"view\": {\"continuousWidth\": 400, \"continuousHeight\": 300}, \"title\": {\"fontSize\": 17}}, \"vconcat\": [{\"layer\": [{\"mark\": \"bar\", \"encoding\": {\"color\": {\"type\": \"nominal\", \"field\": \"category\", \"legend\": {\"labelFontSize\": 15, \"titleFontSize\": 15}, \"scale\": {\"scheme\": \"dark2\"}}, \"x\": {\"type\": \"temporal\", \"axis\": {\"format\": \"%b %Y\", \"labelAngle\": -80, \"tickCount\": 30}, \"field\": \"start\", \"title\": \"timeline\"}, \"x2\": {\"field\": \"end\"}, \"y\": {\"type\": \"nominal\", \"axis\": {\"labels\": false}, \"field\": \"cat\", \"title\": \"categories\"}}, \"width\": 600}, {\"mark\": {\"type\": \"rule\", \"color\": \"Magenta\", \"strokeDash\": [5, 3]}, \"encoding\": {\"opacity\": {\"type\": \"temporal\", \"field\": \"acq_date\", \"legend\": {\"labelFontSize\": 15, \"titleFontSize\": 15}, \"title\": \"acquisition date\"}, \"x\": {\"type\": \"temporal\", \"field\": \"acq_date\"}}}], \"data\": {\"name\": \"data-88496084ffd63873b7b5021363bb0330\"}, \"title\": \"Sorted Timeframes (author_id=625217)\"}, {\"layer\": [{\"mark\": \"bar\", \"encoding\": {\"color\": {\"type\": \"nominal\", \"field\": \"category\", \"legend\": {\"labelFontSize\": 15, \"titleFontSize\": 15}, \"scale\": {\"scheme\": \"dark2\"}}, \"x\": {\"type\": \"temporal\", \"axis\": {\"format\": \"%b %Y\", \"labelAngle\": -80, \"tickCount\": 30}, \"field\": \"start\", \"title\": \"timeline\"}, \"x2\": {\"field\": \"end\"}, \"y\": {\"type\": \"nominal\", \"axis\": {\"labels\": false}, \"field\": \"cat\", \"title\": \"categories\"}}, \"width\": 600}, {\"mark\": {\"type\": \"rule\", \"color\": \"Magenta\", \"strokeDash\": [5, 3]}, \"encoding\": {\"opacity\": {\"type\": \"temporal\", \"field\": \"acq_date\", \"legend\": {\"labelFontSize\": 15, \"titleFontSize\": 15}, \"title\": \"acquisition date\"}, \"x\": {\"type\": \"temporal\", \"field\": \"acq_date\"}}}], \"data\": {\"name\": \"data-af7cbc6f36b21fc8baabe7d0780bb14b\"}, \"title\": \"Merged Timeframes (author_id=625217)\"}], \"$schema\": \"https://vega.github.io/schema/vega-lite/v4.8.1.json\", \"datasets\": {\"data-88496084ffd63873b7b5021363bb0330\": [{\"start\": \"2009-09-01T00:00:00\", \"end\": \"2011-05-01T00:00:00\", \"category\": \"O\", \"acq_date\": \"2017-01-13T00:00:00\", \"cat\": \"00\"}, {\"start\": \"2010-01-01T00:00:00\", \"end\": \"2010-04-01T00:00:00\", \"category\": \"O\", \"acq_date\": \"2017-01-13T00:00:00\", \"cat\": \"01\"}, {\"start\": \"2010-09-01T00:00:00\", \"end\": \"2010-12-01T00:00:00\", \"category\": \"O\", \"acq_date\": \"2017-01-13T00:00:00\", \"cat\": \"02\"}, {\"start\": \"2011-05-01T00:00:00\", \"end\": \"2011-08-01T00:00:00\", \"category\": \"R\", \"acq_date\": \"2017-01-13T00:00:00\", \"cat\": \"03\"}, {\"start\": \"2011-10-01T00:00:00\", \"end\": \"2011-12-01T00:00:00\", \"category\": \"E\", \"acq_date\": \"2017-01-13T00:00:00\", \"cat\": \"04\"}, {\"start\": \"2012-01-01T00:00:00\", \"end\": \"2012-04-01T00:00:00\", \"category\": \"O\", \"acq_date\": \"2017-01-13T00:00:00\", \"cat\": \"05\"}, {\"start\": \"2012-05-01T00:00:00\", \"end\": \"2015-05-01T00:00:00\", \"category\": \"E\", \"acq_date\": \"2017-01-13T00:00:00\", \"cat\": \"06\"}, {\"start\": \"2013-09-01T00:00:00\", \"end\": \"2015-05-01T00:00:00\", \"category\": \"E\", \"acq_date\": \"2017-01-13T00:00:00\", \"cat\": \"07\"}, {\"start\": \"2015-05-01T00:00:00\", \"end\": \"2016-04-01T00:00:00\", \"category\": \"E\", \"acq_date\": \"2017-01-13T00:00:00\", \"cat\": \"08\"}, {\"start\": \"2016-05-01T00:00:00\", \"end\": \"2017-02-01T00:00:00\", \"category\": \"E\", \"acq_date\": \"2017-01-13T00:00:00\", \"cat\": \"09\"}, {\"start\": \"2017-02-01T00:00:00\", \"end\": \"2018-11-01T00:00:00\", \"category\": \"R\", \"acq_date\": \"2017-01-13T00:00:00\", \"cat\": \"10\"}, {\"start\": \"2018-12-01T00:00:00\", \"end\": \"2020-09-01T00:00:00\", \"category\": \"R\", \"acq_date\": \"2017-01-13T00:00:00\", \"cat\": \"11\"}], \"data-af7cbc6f36b21fc8baabe7d0780bb14b\": [{\"start\": \"2009-09-01T00:00:00\", \"end\": \"2011-05-01T00:00:00\", \"category\": \"O\", \"acq_date\": \"2017-01-13T00:00:00\", \"cat\": \"00\"}, {\"start\": \"2011-05-01T00:00:00\", \"end\": \"2011-08-01T00:00:00\", \"category\": \"R\", \"acq_date\": \"2017-01-13T00:00:00\", \"cat\": \"01\"}, {\"start\": \"2011-10-01T00:00:00\", \"end\": \"2011-12-01T00:00:00\", \"category\": \"E\", \"acq_date\": \"2017-01-13T00:00:00\", \"cat\": \"02\"}, {\"start\": \"2012-01-01T00:00:00\", \"end\": \"2012-04-01T00:00:00\", \"category\": \"O\", \"acq_date\": \"2017-01-13T00:00:00\", \"cat\": \"03\"}, {\"start\": \"2012-05-01T00:00:00\", \"end\": \"2017-02-01T00:00:00\", \"category\": \"E\", \"acq_date\": \"2017-01-13T00:00:00\", \"cat\": \"04\"}, {\"start\": \"2017-02-01T00:00:00\", \"end\": \"2020-09-01T00:00:00\", \"category\": \"R\", \"acq_date\": \"2017-01-13T00:00:00\", \"cat\": \"05\"}]}}, {\"mode\": \"vega-lite\"});\n",
       "</script>"
      ],
      "text/plain": [
       "alt.VConcatChart(...)"
      ]
     },
     "metadata": {},
     "output_type": "display_data"
    },
    {
     "name": "stdout",
     "output_type": "stream",
     "text": [
      "==============================================================================================\n"
     ]
    },
    {
     "data": {
      "text/html": [
       "\n",
       "<div id=\"altair-viz-9812a19e5ec842659c6b7671c3250e88\"></div>\n",
       "<script type=\"text/javascript\">\n",
       "  (function(spec, embedOpt){\n",
       "    let outputDiv = document.currentScript.previousElementSibling;\n",
       "    if (outputDiv.id !== \"altair-viz-9812a19e5ec842659c6b7671c3250e88\") {\n",
       "      outputDiv = document.getElementById(\"altair-viz-9812a19e5ec842659c6b7671c3250e88\");\n",
       "    }\n",
       "    const paths = {\n",
       "      \"vega\": \"https://cdn.jsdelivr.net/npm//vega@5?noext\",\n",
       "      \"vega-lib\": \"https://cdn.jsdelivr.net/npm//vega-lib?noext\",\n",
       "      \"vega-lite\": \"https://cdn.jsdelivr.net/npm//vega-lite@4.8.1?noext\",\n",
       "      \"vega-embed\": \"https://cdn.jsdelivr.net/npm//vega-embed@6?noext\",\n",
       "    };\n",
       "\n",
       "    function loadScript(lib) {\n",
       "      return new Promise(function(resolve, reject) {\n",
       "        var s = document.createElement('script');\n",
       "        s.src = paths[lib];\n",
       "        s.async = true;\n",
       "        s.onload = () => resolve(paths[lib]);\n",
       "        s.onerror = () => reject(`Error loading script: ${paths[lib]}`);\n",
       "        document.getElementsByTagName(\"head\")[0].appendChild(s);\n",
       "      });\n",
       "    }\n",
       "\n",
       "    function showError(err) {\n",
       "      outputDiv.innerHTML = `<div class=\"error\" style=\"color:red;\">${err}</div>`;\n",
       "      throw err;\n",
       "    }\n",
       "\n",
       "    function displayChart(vegaEmbed) {\n",
       "      vegaEmbed(outputDiv, spec, embedOpt)\n",
       "        .catch(err => showError(`Javascript Error: ${err.message}<br>This usually means there's a typo in your chart specification. See the javascript console for the full traceback.`));\n",
       "    }\n",
       "\n",
       "    if(typeof define === \"function\" && define.amd) {\n",
       "      requirejs.config({paths});\n",
       "      require([\"vega-embed\"], displayChart, err => showError(`Error loading script: ${err.message}`));\n",
       "    } else if (typeof vegaEmbed === \"function\") {\n",
       "      displayChart(vegaEmbed);\n",
       "    } else {\n",
       "      loadScript(\"vega\")\n",
       "        .then(() => loadScript(\"vega-lite\"))\n",
       "        .then(() => loadScript(\"vega-embed\"))\n",
       "        .catch(showError)\n",
       "        .then(() => displayChart(vegaEmbed));\n",
       "    }\n",
       "  })({\"config\": {\"view\": {\"continuousWidth\": 400, \"continuousHeight\": 300}, \"title\": {\"fontSize\": 17}}, \"vconcat\": [{\"layer\": [{\"mark\": \"bar\", \"encoding\": {\"color\": {\"type\": \"nominal\", \"field\": \"category\", \"legend\": {\"labelFontSize\": 15, \"titleFontSize\": 15}, \"scale\": {\"scheme\": \"dark2\"}}, \"x\": {\"type\": \"temporal\", \"axis\": {\"format\": \"%b %Y\", \"labelAngle\": -80, \"tickCount\": 30}, \"field\": \"start\", \"title\": \"timeline\"}, \"x2\": {\"field\": \"end\"}, \"y\": {\"type\": \"nominal\", \"axis\": {\"labels\": false}, \"field\": \"cat\", \"title\": \"categories\"}}, \"width\": 600}, {\"mark\": {\"type\": \"rule\", \"color\": \"Magenta\", \"strokeDash\": [5, 3]}, \"encoding\": {\"opacity\": {\"type\": \"temporal\", \"field\": \"acq_date\", \"legend\": {\"labelFontSize\": 15, \"titleFontSize\": 15}, \"title\": \"acquisition date\"}, \"x\": {\"type\": \"temporal\", \"field\": \"acq_date\"}}}], \"data\": {\"name\": \"data-5b392d047e65c811e4c32fb479ff7caf\"}, \"title\": \"Sorted Timeframes (author_id=1306311)\"}, {\"layer\": [{\"mark\": \"bar\", \"encoding\": {\"color\": {\"type\": \"nominal\", \"field\": \"category\", \"legend\": {\"labelFontSize\": 15, \"titleFontSize\": 15}, \"scale\": {\"scheme\": \"dark2\"}}, \"x\": {\"type\": \"temporal\", \"axis\": {\"format\": \"%b %Y\", \"labelAngle\": -80, \"tickCount\": 30}, \"field\": \"start\", \"title\": \"timeline\"}, \"x2\": {\"field\": \"end\"}, \"y\": {\"type\": \"nominal\", \"axis\": {\"labels\": false}, \"field\": \"cat\", \"title\": \"categories\"}}, \"width\": 600}, {\"mark\": {\"type\": \"rule\", \"color\": \"Magenta\", \"strokeDash\": [5, 3]}, \"encoding\": {\"opacity\": {\"type\": \"temporal\", \"field\": \"acq_date\", \"legend\": {\"labelFontSize\": 15, \"titleFontSize\": 15}, \"title\": \"acquisition date\"}, \"x\": {\"type\": \"temporal\", \"field\": \"acq_date\"}}}], \"data\": {\"name\": \"data-a1a93f0e18debfd483d678273132df00\"}, \"title\": \"Merged Timeframes (author_id=1306311)\"}], \"$schema\": \"https://vega.github.io/schema/vega-lite/v4.8.1.json\", \"datasets\": {\"data-5b392d047e65c811e4c32fb479ff7caf\": [{\"start\": \"2010-06-01T00:00:00\", \"end\": \"2012-10-01T00:00:00\", \"category\": \"O\", \"acq_date\": \"2018-05-21T00:00:00\", \"cat\": \"00\"}, {\"start\": \"2012-10-01T00:00:00\", \"end\": \"2014-11-01T00:00:00\", \"category\": \"O\", \"acq_date\": \"2018-05-21T00:00:00\", \"cat\": \"01\"}, {\"start\": \"2014-11-01T00:00:00\", \"end\": \"2015-11-01T00:00:00\", \"category\": \"E\", \"acq_date\": \"2018-05-21T00:00:00\", \"cat\": \"02\"}, {\"start\": \"2015-12-01T00:00:00\", \"end\": \"2017-06-01T00:00:00\", \"category\": \"E\", \"acq_date\": \"2018-05-21T00:00:00\", \"cat\": \"03\"}, {\"start\": \"2017-07-01T00:00:00\", \"end\": \"2018-01-01T00:00:00\", \"category\": \"O\", \"acq_date\": \"2018-05-21T00:00:00\", \"cat\": \"04\"}, {\"start\": \"2018-04-01T00:00:00\", \"end\": \"2018-07-01T00:00:00\", \"category\": \"E\", \"acq_date\": \"2018-05-21T00:00:00\", \"cat\": \"05\"}, {\"start\": \"2018-07-01T00:00:00\", \"end\": \"2020-09-01T00:00:00\", \"category\": \"R\", \"acq_date\": \"2018-05-21T00:00:00\", \"cat\": \"06\"}], \"data-a1a93f0e18debfd483d678273132df00\": [{\"start\": \"2010-06-01T00:00:00\", \"end\": \"2014-11-01T00:00:00\", \"category\": \"O\", \"acq_date\": \"2018-05-21T00:00:00\", \"cat\": \"00\"}, {\"start\": \"2014-11-01T00:00:00\", \"end\": \"2017-06-01T00:00:00\", \"category\": \"E\", \"acq_date\": \"2018-05-21T00:00:00\", \"cat\": \"01\"}, {\"start\": \"2017-07-01T00:00:00\", \"end\": \"2018-01-01T00:00:00\", \"category\": \"O\", \"acq_date\": \"2018-05-21T00:00:00\", \"cat\": \"02\"}, {\"start\": \"2018-04-01T00:00:00\", \"end\": \"2018-07-01T00:00:00\", \"category\": \"E\", \"acq_date\": \"2018-05-21T00:00:00\", \"cat\": \"03\"}, {\"start\": \"2018-07-01T00:00:00\", \"end\": \"2020-09-01T00:00:00\", \"category\": \"R\", \"acq_date\": \"2018-05-21T00:00:00\", \"cat\": \"04\"}]}}, {\"mode\": \"vega-lite\"});\n",
       "</script>"
      ],
      "text/plain": [
       "alt.VConcatChart(...)"
      ]
     },
     "metadata": {},
     "output_type": "display_data"
    },
    {
     "name": "stdout",
     "output_type": "stream",
     "text": [
      "==============================================================================================\n"
     ]
    },
    {
     "data": {
      "text/html": [
       "\n",
       "<div id=\"altair-viz-e67650f52ab648619d6ce46dda39fa3d\"></div>\n",
       "<script type=\"text/javascript\">\n",
       "  (function(spec, embedOpt){\n",
       "    let outputDiv = document.currentScript.previousElementSibling;\n",
       "    if (outputDiv.id !== \"altair-viz-e67650f52ab648619d6ce46dda39fa3d\") {\n",
       "      outputDiv = document.getElementById(\"altair-viz-e67650f52ab648619d6ce46dda39fa3d\");\n",
       "    }\n",
       "    const paths = {\n",
       "      \"vega\": \"https://cdn.jsdelivr.net/npm//vega@5?noext\",\n",
       "      \"vega-lib\": \"https://cdn.jsdelivr.net/npm//vega-lib?noext\",\n",
       "      \"vega-lite\": \"https://cdn.jsdelivr.net/npm//vega-lite@4.8.1?noext\",\n",
       "      \"vega-embed\": \"https://cdn.jsdelivr.net/npm//vega-embed@6?noext\",\n",
       "    };\n",
       "\n",
       "    function loadScript(lib) {\n",
       "      return new Promise(function(resolve, reject) {\n",
       "        var s = document.createElement('script');\n",
       "        s.src = paths[lib];\n",
       "        s.async = true;\n",
       "        s.onload = () => resolve(paths[lib]);\n",
       "        s.onerror = () => reject(`Error loading script: ${paths[lib]}`);\n",
       "        document.getElementsByTagName(\"head\")[0].appendChild(s);\n",
       "      });\n",
       "    }\n",
       "\n",
       "    function showError(err) {\n",
       "      outputDiv.innerHTML = `<div class=\"error\" style=\"color:red;\">${err}</div>`;\n",
       "      throw err;\n",
       "    }\n",
       "\n",
       "    function displayChart(vegaEmbed) {\n",
       "      vegaEmbed(outputDiv, spec, embedOpt)\n",
       "        .catch(err => showError(`Javascript Error: ${err.message}<br>This usually means there's a typo in your chart specification. See the javascript console for the full traceback.`));\n",
       "    }\n",
       "\n",
       "    if(typeof define === \"function\" && define.amd) {\n",
       "      requirejs.config({paths});\n",
       "      require([\"vega-embed\"], displayChart, err => showError(`Error loading script: ${err.message}`));\n",
       "    } else if (typeof vegaEmbed === \"function\") {\n",
       "      displayChart(vegaEmbed);\n",
       "    } else {\n",
       "      loadScript(\"vega\")\n",
       "        .then(() => loadScript(\"vega-lite\"))\n",
       "        .then(() => loadScript(\"vega-embed\"))\n",
       "        .catch(showError)\n",
       "        .then(() => displayChart(vegaEmbed));\n",
       "    }\n",
       "  })({\"config\": {\"view\": {\"continuousWidth\": 400, \"continuousHeight\": 300}, \"title\": {\"fontSize\": 17}}, \"vconcat\": [{\"layer\": [{\"mark\": \"bar\", \"encoding\": {\"color\": {\"type\": \"nominal\", \"field\": \"category\", \"legend\": {\"labelFontSize\": 15, \"titleFontSize\": 15}, \"scale\": {\"scheme\": \"dark2\"}}, \"x\": {\"type\": \"temporal\", \"axis\": {\"format\": \"%b %Y\", \"labelAngle\": -80, \"tickCount\": 30}, \"field\": \"start\", \"title\": \"timeline\"}, \"x2\": {\"field\": \"end\"}, \"y\": {\"type\": \"nominal\", \"axis\": {\"labels\": false}, \"field\": \"cat\", \"title\": \"categories\"}}, \"width\": 600}, {\"mark\": {\"type\": \"rule\", \"color\": \"Magenta\", \"strokeDash\": [5, 3]}, \"encoding\": {\"opacity\": {\"type\": \"temporal\", \"field\": \"acq_date\", \"legend\": {\"labelFontSize\": 15, \"titleFontSize\": 15}, \"title\": \"acquisition date\"}, \"x\": {\"type\": \"temporal\", \"field\": \"acq_date\"}}}], \"data\": {\"name\": \"data-cda9ad8222606fb917d8b11d088abd2d\"}, \"title\": \"Sorted Timeframes (author_id=4246244)\"}, {\"layer\": [{\"mark\": \"bar\", \"encoding\": {\"color\": {\"type\": \"nominal\", \"field\": \"category\", \"legend\": {\"labelFontSize\": 15, \"titleFontSize\": 15}, \"scale\": {\"scheme\": \"dark2\"}}, \"x\": {\"type\": \"temporal\", \"axis\": {\"format\": \"%b %Y\", \"labelAngle\": -80, \"tickCount\": 30}, \"field\": \"start\", \"title\": \"timeline\"}, \"x2\": {\"field\": \"end\"}, \"y\": {\"type\": \"nominal\", \"axis\": {\"labels\": false}, \"field\": \"cat\", \"title\": \"categories\"}}, \"width\": 600}, {\"mark\": {\"type\": \"rule\", \"color\": \"Magenta\", \"strokeDash\": [5, 3]}, \"encoding\": {\"opacity\": {\"type\": \"temporal\", \"field\": \"acq_date\", \"legend\": {\"labelFontSize\": 15, \"titleFontSize\": 15}, \"title\": \"acquisition date\"}, \"x\": {\"type\": \"temporal\", \"field\": \"acq_date\"}}}], \"data\": {\"name\": \"data-ef535abc1443ca291bfca13b01c6f419\"}, \"title\": \"Merged Timeframes (author_id=4246244)\"}], \"$schema\": \"https://vega.github.io/schema/vega-lite/v4.8.1.json\", \"datasets\": {\"data-cda9ad8222606fb917d8b11d088abd2d\": [{\"start\": \"2008-09-01T00:00:00\", \"end\": \"2010-07-01T00:00:00\", \"category\": \"O\", \"acq_date\": \"2018-05-21T00:00:00\", \"cat\": \"00\"}, {\"start\": \"2008-09-01T00:00:00\", \"end\": \"2010-07-01T00:00:00\", \"category\": \"O\", \"acq_date\": \"2018-05-21T00:00:00\", \"cat\": \"01\"}, {\"start\": \"2010-06-01T00:00:00\", \"end\": \"2013-01-01T00:00:00\", \"category\": \"E\", \"acq_date\": \"2018-05-21T00:00:00\", \"cat\": \"02\"}, {\"start\": \"2013-01-01T00:00:00\", \"end\": \"2013-11-01T00:00:00\", \"category\": \"O\", \"acq_date\": \"2018-05-21T00:00:00\", \"cat\": \"03\"}, {\"start\": \"2013-11-01T00:00:00\", \"end\": \"2014-09-01T00:00:00\", \"category\": \"O\", \"acq_date\": \"2018-05-21T00:00:00\", \"cat\": \"04\"}, {\"start\": \"2014-09-01T00:00:00\", \"end\": \"2016-05-01T00:00:00\", \"category\": \"E\", \"acq_date\": \"2018-05-21T00:00:00\", \"cat\": \"05\"}, {\"start\": \"2015-10-01T00:00:00\", \"end\": \"2020-09-01T00:00:00\", \"category\": \"O\", \"acq_date\": \"2018-05-21T00:00:00\", \"cat\": \"06\"}, {\"start\": \"2016-05-01T00:00:00\", \"end\": \"2017-07-01T00:00:00\", \"category\": \"E\", \"acq_date\": \"2018-05-21T00:00:00\", \"cat\": \"07\"}, {\"start\": \"2017-07-01T00:00:00\", \"end\": \"2018-04-01T00:00:00\", \"category\": \"E\", \"acq_date\": \"2018-05-21T00:00:00\", \"cat\": \"08\"}, {\"start\": \"2018-04-01T00:00:00\", \"end\": \"2018-08-01T00:00:00\", \"category\": \"O\", \"acq_date\": \"2018-05-21T00:00:00\", \"cat\": \"09\"}, {\"start\": \"2018-08-01T00:00:00\", \"end\": \"2020-09-01T00:00:00\", \"category\": \"R\", \"acq_date\": \"2018-05-21T00:00:00\", \"cat\": \"10\"}], \"data-ef535abc1443ca291bfca13b01c6f419\": [{\"start\": \"2008-09-01T00:00:00\", \"end\": \"2010-07-01T00:00:00\", \"category\": \"O\", \"acq_date\": \"2018-05-21T00:00:00\", \"cat\": \"00\"}, {\"start\": \"2010-06-01T00:00:00\", \"end\": \"2013-01-01T00:00:00\", \"category\": \"E\", \"acq_date\": \"2018-05-21T00:00:00\", \"cat\": \"01\"}, {\"start\": \"2013-01-01T00:00:00\", \"end\": \"2014-09-01T00:00:00\", \"category\": \"O\", \"acq_date\": \"2018-05-21T00:00:00\", \"cat\": \"02\"}, {\"start\": \"2014-09-01T00:00:00\", \"end\": \"2018-04-01T00:00:00\", \"category\": \"E\", \"acq_date\": \"2018-05-21T00:00:00\", \"cat\": \"03\"}, {\"start\": \"2015-10-01T00:00:00\", \"end\": \"2020-09-01T00:00:00\", \"category\": \"O\", \"acq_date\": \"2018-05-21T00:00:00\", \"cat\": \"04\"}, {\"start\": \"2018-08-01T00:00:00\", \"end\": \"2020-09-01T00:00:00\", \"category\": \"R\", \"acq_date\": \"2018-05-21T00:00:00\", \"cat\": \"05\"}]}}, {\"mode\": \"vega-lite\"});\n",
       "</script>"
      ],
      "text/plain": [
       "alt.VConcatChart(...)"
      ]
     },
     "metadata": {},
     "output_type": "display_data"
    },
    {
     "name": "stdout",
     "output_type": "stream",
     "text": [
      "==============================================================================================\n"
     ]
    },
    {
     "data": {
      "text/html": [
       "\n",
       "<div id=\"altair-viz-a2d2d2978dc64e2d81dd28149aba0867\"></div>\n",
       "<script type=\"text/javascript\">\n",
       "  (function(spec, embedOpt){\n",
       "    let outputDiv = document.currentScript.previousElementSibling;\n",
       "    if (outputDiv.id !== \"altair-viz-a2d2d2978dc64e2d81dd28149aba0867\") {\n",
       "      outputDiv = document.getElementById(\"altair-viz-a2d2d2978dc64e2d81dd28149aba0867\");\n",
       "    }\n",
       "    const paths = {\n",
       "      \"vega\": \"https://cdn.jsdelivr.net/npm//vega@5?noext\",\n",
       "      \"vega-lib\": \"https://cdn.jsdelivr.net/npm//vega-lib?noext\",\n",
       "      \"vega-lite\": \"https://cdn.jsdelivr.net/npm//vega-lite@4.8.1?noext\",\n",
       "      \"vega-embed\": \"https://cdn.jsdelivr.net/npm//vega-embed@6?noext\",\n",
       "    };\n",
       "\n",
       "    function loadScript(lib) {\n",
       "      return new Promise(function(resolve, reject) {\n",
       "        var s = document.createElement('script');\n",
       "        s.src = paths[lib];\n",
       "        s.async = true;\n",
       "        s.onload = () => resolve(paths[lib]);\n",
       "        s.onerror = () => reject(`Error loading script: ${paths[lib]}`);\n",
       "        document.getElementsByTagName(\"head\")[0].appendChild(s);\n",
       "      });\n",
       "    }\n",
       "\n",
       "    function showError(err) {\n",
       "      outputDiv.innerHTML = `<div class=\"error\" style=\"color:red;\">${err}</div>`;\n",
       "      throw err;\n",
       "    }\n",
       "\n",
       "    function displayChart(vegaEmbed) {\n",
       "      vegaEmbed(outputDiv, spec, embedOpt)\n",
       "        .catch(err => showError(`Javascript Error: ${err.message}<br>This usually means there's a typo in your chart specification. See the javascript console for the full traceback.`));\n",
       "    }\n",
       "\n",
       "    if(typeof define === \"function\" && define.amd) {\n",
       "      requirejs.config({paths});\n",
       "      require([\"vega-embed\"], displayChart, err => showError(`Error loading script: ${err.message}`));\n",
       "    } else if (typeof vegaEmbed === \"function\") {\n",
       "      displayChart(vegaEmbed);\n",
       "    } else {\n",
       "      loadScript(\"vega\")\n",
       "        .then(() => loadScript(\"vega-lite\"))\n",
       "        .then(() => loadScript(\"vega-embed\"))\n",
       "        .catch(showError)\n",
       "        .then(() => displayChart(vegaEmbed));\n",
       "    }\n",
       "  })({\"config\": {\"view\": {\"continuousWidth\": 400, \"continuousHeight\": 300}, \"title\": {\"fontSize\": 17}}, \"vconcat\": [{\"layer\": [{\"mark\": \"bar\", \"encoding\": {\"color\": {\"type\": \"nominal\", \"field\": \"category\", \"legend\": {\"labelFontSize\": 15, \"titleFontSize\": 15}, \"scale\": {\"scheme\": \"dark2\"}}, \"x\": {\"type\": \"temporal\", \"axis\": {\"format\": \"%b %Y\", \"labelAngle\": -80, \"tickCount\": 30}, \"field\": \"start\", \"title\": \"timeline\"}, \"x2\": {\"field\": \"end\"}, \"y\": {\"type\": \"nominal\", \"axis\": {\"labels\": false}, \"field\": \"cat\", \"title\": \"categories\"}}, \"width\": 600}, {\"mark\": {\"type\": \"rule\", \"color\": \"Magenta\", \"strokeDash\": [5, 3]}, \"encoding\": {\"opacity\": {\"type\": \"temporal\", \"field\": \"acq_date\", \"legend\": {\"labelFontSize\": 15, \"titleFontSize\": 15}, \"title\": \"acquisition date\"}, \"x\": {\"type\": \"temporal\", \"field\": \"acq_date\"}}}], \"data\": {\"name\": \"data-e57b3298761914c7eb07b1ddccb41521\"}, \"title\": \"Sorted Timeframes (author_id=1295591)\"}, {\"layer\": [{\"mark\": \"bar\", \"encoding\": {\"color\": {\"type\": \"nominal\", \"field\": \"category\", \"legend\": {\"labelFontSize\": 15, \"titleFontSize\": 15}, \"scale\": {\"scheme\": \"dark2\"}}, \"x\": {\"type\": \"temporal\", \"axis\": {\"format\": \"%b %Y\", \"labelAngle\": -80, \"tickCount\": 30}, \"field\": \"start\", \"title\": \"timeline\"}, \"x2\": {\"field\": \"end\"}, \"y\": {\"type\": \"nominal\", \"axis\": {\"labels\": false}, \"field\": \"cat\", \"title\": \"categories\"}}, \"width\": 600}, {\"mark\": {\"type\": \"rule\", \"color\": \"Magenta\", \"strokeDash\": [5, 3]}, \"encoding\": {\"opacity\": {\"type\": \"temporal\", \"field\": \"acq_date\", \"legend\": {\"labelFontSize\": 15, \"titleFontSize\": 15}, \"title\": \"acquisition date\"}, \"x\": {\"type\": \"temporal\", \"field\": \"acq_date\"}}}], \"data\": {\"name\": \"data-d87d17571b697a02dc57e100e26c1292\"}, \"title\": \"Merged Timeframes (author_id=1295591)\"}], \"$schema\": \"https://vega.github.io/schema/vega-lite/v4.8.1.json\", \"datasets\": {\"data-e57b3298761914c7eb07b1ddccb41521\": [{\"start\": \"1993-04-01T00:00:00\", \"end\": \"1993-09-01T00:00:00\", \"category\": \"O\", \"acq_date\": \"2015-03-02T00:00:00\", \"cat\": \"00\"}, {\"start\": \"1994-04-01T00:00:00\", \"end\": \"1998-07-01T00:00:00\", \"category\": \"O\", \"acq_date\": \"2015-03-02T00:00:00\", \"cat\": \"01\"}, {\"start\": \"1998-11-01T00:00:00\", \"end\": \"2000-06-01T00:00:00\", \"category\": \"O\", \"acq_date\": \"2015-03-02T00:00:00\", \"cat\": \"02\"}, {\"start\": \"2000-07-01T00:00:00\", \"end\": \"2004-10-01T00:00:00\", \"category\": \"O\", \"acq_date\": \"2015-03-02T00:00:00\", \"cat\": \"03\"}, {\"start\": \"2004-10-01T00:00:00\", \"end\": \"2007-02-01T00:00:00\", \"category\": \"E\", \"acq_date\": \"2015-03-02T00:00:00\", \"cat\": \"04\"}, {\"start\": \"2007-03-01T00:00:00\", \"end\": \"2015-12-01T00:00:00\", \"category\": \"E\", \"acq_date\": \"2015-03-02T00:00:00\", \"cat\": \"05\"}, {\"start\": \"2007-03-01T00:00:00\", \"end\": \"2012-12-01T00:00:00\", \"category\": \"E\", \"acq_date\": \"2015-03-02T00:00:00\", \"cat\": \"06\"}, {\"start\": \"2008-02-01T00:00:00\", \"end\": \"2020-09-01T00:00:00\", \"category\": \"O\", \"acq_date\": \"2015-03-02T00:00:00\", \"cat\": \"07\"}, {\"start\": \"2013-01-01T00:00:00\", \"end\": \"2015-12-01T00:00:00\", \"category\": \"E\", \"acq_date\": \"2015-03-02T00:00:00\", \"cat\": \"08\"}, {\"start\": \"2015-12-01T00:00:00\", \"end\": \"2019-04-01T00:00:00\", \"category\": \"R\", \"acq_date\": \"2015-03-02T00:00:00\", \"cat\": \"09\"}], \"data-d87d17571b697a02dc57e100e26c1292\": [{\"start\": \"1993-04-01T00:00:00\", \"end\": \"1993-09-01T00:00:00\", \"category\": \"O\", \"acq_date\": \"2015-03-02T00:00:00\", \"cat\": \"00\"}, {\"start\": \"1994-04-01T00:00:00\", \"end\": \"1998-07-01T00:00:00\", \"category\": \"O\", \"acq_date\": \"2015-03-02T00:00:00\", \"cat\": \"01\"}, {\"start\": \"1998-11-01T00:00:00\", \"end\": \"2004-10-01T00:00:00\", \"category\": \"O\", \"acq_date\": \"2015-03-02T00:00:00\", \"cat\": \"02\"}, {\"start\": \"2004-10-01T00:00:00\", \"end\": \"2015-12-01T00:00:00\", \"category\": \"E\", \"acq_date\": \"2015-03-02T00:00:00\", \"cat\": \"03\"}, {\"start\": \"2008-02-01T00:00:00\", \"end\": \"2020-09-01T00:00:00\", \"category\": \"O\", \"acq_date\": \"2015-03-02T00:00:00\", \"cat\": \"04\"}, {\"start\": \"2015-12-01T00:00:00\", \"end\": \"2019-04-01T00:00:00\", \"category\": \"R\", \"acq_date\": \"2015-03-02T00:00:00\", \"cat\": \"05\"}]}}, {\"mode\": \"vega-lite\"});\n",
       "</script>"
      ],
      "text/plain": [
       "alt.VConcatChart(...)"
      ]
     },
     "metadata": {},
     "output_type": "display_data"
    },
    {
     "name": "stdout",
     "output_type": "stream",
     "text": [
      "==============================================================================================\n"
     ]
    },
    {
     "data": {
      "text/html": [
       "\n",
       "<div id=\"altair-viz-7a391c222307474bbede70190bb25a61\"></div>\n",
       "<script type=\"text/javascript\">\n",
       "  (function(spec, embedOpt){\n",
       "    let outputDiv = document.currentScript.previousElementSibling;\n",
       "    if (outputDiv.id !== \"altair-viz-7a391c222307474bbede70190bb25a61\") {\n",
       "      outputDiv = document.getElementById(\"altair-viz-7a391c222307474bbede70190bb25a61\");\n",
       "    }\n",
       "    const paths = {\n",
       "      \"vega\": \"https://cdn.jsdelivr.net/npm//vega@5?noext\",\n",
       "      \"vega-lib\": \"https://cdn.jsdelivr.net/npm//vega-lib?noext\",\n",
       "      \"vega-lite\": \"https://cdn.jsdelivr.net/npm//vega-lite@4.8.1?noext\",\n",
       "      \"vega-embed\": \"https://cdn.jsdelivr.net/npm//vega-embed@6?noext\",\n",
       "    };\n",
       "\n",
       "    function loadScript(lib) {\n",
       "      return new Promise(function(resolve, reject) {\n",
       "        var s = document.createElement('script');\n",
       "        s.src = paths[lib];\n",
       "        s.async = true;\n",
       "        s.onload = () => resolve(paths[lib]);\n",
       "        s.onerror = () => reject(`Error loading script: ${paths[lib]}`);\n",
       "        document.getElementsByTagName(\"head\")[0].appendChild(s);\n",
       "      });\n",
       "    }\n",
       "\n",
       "    function showError(err) {\n",
       "      outputDiv.innerHTML = `<div class=\"error\" style=\"color:red;\">${err}</div>`;\n",
       "      throw err;\n",
       "    }\n",
       "\n",
       "    function displayChart(vegaEmbed) {\n",
       "      vegaEmbed(outputDiv, spec, embedOpt)\n",
       "        .catch(err => showError(`Javascript Error: ${err.message}<br>This usually means there's a typo in your chart specification. See the javascript console for the full traceback.`));\n",
       "    }\n",
       "\n",
       "    if(typeof define === \"function\" && define.amd) {\n",
       "      requirejs.config({paths});\n",
       "      require([\"vega-embed\"], displayChart, err => showError(`Error loading script: ${err.message}`));\n",
       "    } else if (typeof vegaEmbed === \"function\") {\n",
       "      displayChart(vegaEmbed);\n",
       "    } else {\n",
       "      loadScript(\"vega\")\n",
       "        .then(() => loadScript(\"vega-lite\"))\n",
       "        .then(() => loadScript(\"vega-embed\"))\n",
       "        .catch(showError)\n",
       "        .then(() => displayChart(vegaEmbed));\n",
       "    }\n",
       "  })({\"config\": {\"view\": {\"continuousWidth\": 400, \"continuousHeight\": 300}, \"title\": {\"fontSize\": 17}}, \"vconcat\": [{\"layer\": [{\"mark\": \"bar\", \"encoding\": {\"color\": {\"type\": \"nominal\", \"field\": \"category\", \"legend\": {\"labelFontSize\": 15, \"titleFontSize\": 15}, \"scale\": {\"scheme\": \"dark2\"}}, \"x\": {\"type\": \"temporal\", \"axis\": {\"format\": \"%b %Y\", \"labelAngle\": -80, \"tickCount\": 30}, \"field\": \"start\", \"title\": \"timeline\"}, \"x2\": {\"field\": \"end\"}, \"y\": {\"type\": \"nominal\", \"axis\": {\"labels\": false}, \"field\": \"cat\", \"title\": \"categories\"}}, \"width\": 600}, {\"mark\": {\"type\": \"rule\", \"color\": \"Magenta\", \"strokeDash\": [5, 3]}, \"encoding\": {\"opacity\": {\"type\": \"temporal\", \"field\": \"acq_date\", \"legend\": {\"labelFontSize\": 15, \"titleFontSize\": 15}, \"title\": \"acquisition date\"}, \"x\": {\"type\": \"temporal\", \"field\": \"acq_date\"}}}], \"data\": {\"name\": \"data-df37b518cf71e5d2cced2b8279559b50\"}, \"title\": \"Sorted Timeframes (author_id=36426783)\"}, {\"layer\": [{\"mark\": \"bar\", \"encoding\": {\"color\": {\"type\": \"nominal\", \"field\": \"category\", \"legend\": {\"labelFontSize\": 15, \"titleFontSize\": 15}, \"scale\": {\"scheme\": \"dark2\"}}, \"x\": {\"type\": \"temporal\", \"axis\": {\"format\": \"%b %Y\", \"labelAngle\": -80, \"tickCount\": 30}, \"field\": \"start\", \"title\": \"timeline\"}, \"x2\": {\"field\": \"end\"}, \"y\": {\"type\": \"nominal\", \"axis\": {\"labels\": false}, \"field\": \"cat\", \"title\": \"categories\"}}, \"width\": 600}, {\"mark\": {\"type\": \"rule\", \"color\": \"Magenta\", \"strokeDash\": [5, 3]}, \"encoding\": {\"opacity\": {\"type\": \"temporal\", \"field\": \"acq_date\", \"legend\": {\"labelFontSize\": 15, \"titleFontSize\": 15}, \"title\": \"acquisition date\"}, \"x\": {\"type\": \"temporal\", \"field\": \"acq_date\"}}}], \"data\": {\"name\": \"data-d4cac680b9fdc593ecd76f981570437f\"}, \"title\": \"Merged Timeframes (author_id=36426783)\"}], \"$schema\": \"https://vega.github.io/schema/vega-lite/v4.8.1.json\", \"datasets\": {\"data-df37b518cf71e5d2cced2b8279559b50\": [{\"start\": \"2012-05-01T00:00:00\", \"end\": \"2013-06-01T00:00:00\", \"category\": \"O\", \"acq_date\": \"2017-11-02T00:00:00\", \"cat\": \"00\"}, {\"start\": \"2013-06-01T00:00:00\", \"end\": \"2014-07-01T00:00:00\", \"category\": \"O\", \"acq_date\": \"2017-11-02T00:00:00\", \"cat\": \"01\"}, {\"start\": \"2014-07-01T00:00:00\", \"end\": \"2015-01-01T00:00:00\", \"category\": \"E\", \"acq_date\": \"2017-11-02T00:00:00\", \"cat\": \"02\"}, {\"start\": \"2014-08-01T00:00:00\", \"end\": \"2015-05-01T00:00:00\", \"category\": \"O\", \"acq_date\": \"2017-11-02T00:00:00\", \"cat\": \"03\"}, {\"start\": \"2014-08-01T00:00:00\", \"end\": \"2015-05-01T00:00:00\", \"category\": \"O\", \"acq_date\": \"2017-11-02T00:00:00\", \"cat\": \"04\"}, {\"start\": \"2015-05-01T00:00:00\", \"end\": \"2016-01-01T00:00:00\", \"category\": \"E\", \"acq_date\": \"2017-11-02T00:00:00\", \"cat\": \"05\"}, {\"start\": \"2015-09-01T00:00:00\", \"end\": \"2017-05-01T00:00:00\", \"category\": \"O\", \"acq_date\": \"2017-11-02T00:00:00\", \"cat\": \"06\"}, {\"start\": \"2016-05-01T00:00:00\", \"end\": \"2017-01-01T00:00:00\", \"category\": \"E\", \"acq_date\": \"2017-11-02T00:00:00\", \"cat\": \"07\"}, {\"start\": \"2017-06-01T00:00:00\", \"end\": \"2017-12-01T00:00:00\", \"category\": \"E\", \"acq_date\": \"2017-11-02T00:00:00\", \"cat\": \"08\"}, {\"start\": \"2017-12-01T00:00:00\", \"end\": \"2019-12-01T00:00:00\", \"category\": \"R\", \"acq_date\": \"2017-11-02T00:00:00\", \"cat\": \"09\"}, {\"start\": \"2019-12-01T00:00:00\", \"end\": \"2020-09-01T00:00:00\", \"category\": \"R\", \"acq_date\": \"2017-11-02T00:00:00\", \"cat\": \"10\"}], \"data-d4cac680b9fdc593ecd76f981570437f\": [{\"start\": \"2012-05-01T00:00:00\", \"end\": \"2014-07-01T00:00:00\", \"category\": \"O\", \"acq_date\": \"2017-11-02T00:00:00\", \"cat\": \"00\"}, {\"start\": \"2014-07-01T00:00:00\", \"end\": \"2015-01-01T00:00:00\", \"category\": \"E\", \"acq_date\": \"2017-11-02T00:00:00\", \"cat\": \"01\"}, {\"start\": \"2014-08-01T00:00:00\", \"end\": \"2015-05-01T00:00:00\", \"category\": \"O\", \"acq_date\": \"2017-11-02T00:00:00\", \"cat\": \"02\"}, {\"start\": \"2015-05-01T00:00:00\", \"end\": \"2016-01-01T00:00:00\", \"category\": \"E\", \"acq_date\": \"2017-11-02T00:00:00\", \"cat\": \"03\"}, {\"start\": \"2015-09-01T00:00:00\", \"end\": \"2017-05-01T00:00:00\", \"category\": \"O\", \"acq_date\": \"2017-11-02T00:00:00\", \"cat\": \"04\"}, {\"start\": \"2016-05-01T00:00:00\", \"end\": \"2017-01-01T00:00:00\", \"category\": \"E\", \"acq_date\": \"2017-11-02T00:00:00\", \"cat\": \"05\"}, {\"start\": \"2017-06-01T00:00:00\", \"end\": \"2017-12-01T00:00:00\", \"category\": \"E\", \"acq_date\": \"2017-11-02T00:00:00\", \"cat\": \"06\"}, {\"start\": \"2017-12-01T00:00:00\", \"end\": \"2020-09-01T00:00:00\", \"category\": \"R\", \"acq_date\": \"2017-11-02T00:00:00\", \"cat\": \"07\"}]}}, {\"mode\": \"vega-lite\"});\n",
       "</script>"
      ],
      "text/plain": [
       "alt.VConcatChart(...)"
      ]
     },
     "metadata": {},
     "output_type": "display_data"
    },
    {
     "name": "stdout",
     "output_type": "stream",
     "text": [
      "==============================================================================================\n"
     ]
    },
    {
     "data": {
      "text/html": [
       "\n",
       "<div id=\"altair-viz-6e3fcda2a7f24cbf8bc3be91351d9f64\"></div>\n",
       "<script type=\"text/javascript\">\n",
       "  (function(spec, embedOpt){\n",
       "    let outputDiv = document.currentScript.previousElementSibling;\n",
       "    if (outputDiv.id !== \"altair-viz-6e3fcda2a7f24cbf8bc3be91351d9f64\") {\n",
       "      outputDiv = document.getElementById(\"altair-viz-6e3fcda2a7f24cbf8bc3be91351d9f64\");\n",
       "    }\n",
       "    const paths = {\n",
       "      \"vega\": \"https://cdn.jsdelivr.net/npm//vega@5?noext\",\n",
       "      \"vega-lib\": \"https://cdn.jsdelivr.net/npm//vega-lib?noext\",\n",
       "      \"vega-lite\": \"https://cdn.jsdelivr.net/npm//vega-lite@4.8.1?noext\",\n",
       "      \"vega-embed\": \"https://cdn.jsdelivr.net/npm//vega-embed@6?noext\",\n",
       "    };\n",
       "\n",
       "    function loadScript(lib) {\n",
       "      return new Promise(function(resolve, reject) {\n",
       "        var s = document.createElement('script');\n",
       "        s.src = paths[lib];\n",
       "        s.async = true;\n",
       "        s.onload = () => resolve(paths[lib]);\n",
       "        s.onerror = () => reject(`Error loading script: ${paths[lib]}`);\n",
       "        document.getElementsByTagName(\"head\")[0].appendChild(s);\n",
       "      });\n",
       "    }\n",
       "\n",
       "    function showError(err) {\n",
       "      outputDiv.innerHTML = `<div class=\"error\" style=\"color:red;\">${err}</div>`;\n",
       "      throw err;\n",
       "    }\n",
       "\n",
       "    function displayChart(vegaEmbed) {\n",
       "      vegaEmbed(outputDiv, spec, embedOpt)\n",
       "        .catch(err => showError(`Javascript Error: ${err.message}<br>This usually means there's a typo in your chart specification. See the javascript console for the full traceback.`));\n",
       "    }\n",
       "\n",
       "    if(typeof define === \"function\" && define.amd) {\n",
       "      requirejs.config({paths});\n",
       "      require([\"vega-embed\"], displayChart, err => showError(`Error loading script: ${err.message}`));\n",
       "    } else if (typeof vegaEmbed === \"function\") {\n",
       "      displayChart(vegaEmbed);\n",
       "    } else {\n",
       "      loadScript(\"vega\")\n",
       "        .then(() => loadScript(\"vega-lite\"))\n",
       "        .then(() => loadScript(\"vega-embed\"))\n",
       "        .catch(showError)\n",
       "        .then(() => displayChart(vegaEmbed));\n",
       "    }\n",
       "  })({\"config\": {\"view\": {\"continuousWidth\": 400, \"continuousHeight\": 300}, \"title\": {\"fontSize\": 17}}, \"vconcat\": [{\"layer\": [{\"mark\": \"bar\", \"encoding\": {\"color\": {\"type\": \"nominal\", \"field\": \"category\", \"legend\": {\"labelFontSize\": 15, \"titleFontSize\": 15}, \"scale\": {\"scheme\": \"dark2\"}}, \"x\": {\"type\": \"temporal\", \"axis\": {\"format\": \"%b %Y\", \"labelAngle\": -80, \"tickCount\": 30}, \"field\": \"start\", \"title\": \"timeline\"}, \"x2\": {\"field\": \"end\"}, \"y\": {\"type\": \"nominal\", \"axis\": {\"labels\": false}, \"field\": \"cat\", \"title\": \"categories\"}}, \"width\": 600}, {\"mark\": {\"type\": \"rule\", \"color\": \"Magenta\", \"strokeDash\": [5, 3]}, \"encoding\": {\"opacity\": {\"type\": \"temporal\", \"field\": \"acq_date\", \"legend\": {\"labelFontSize\": 15, \"titleFontSize\": 15}, \"title\": \"acquisition date\"}, \"x\": {\"type\": \"temporal\", \"field\": \"acq_date\"}}}], \"data\": {\"name\": \"data-0d18ea3777786b5cc4ae0e9b774673cf\"}, \"title\": \"Sorted Timeframes (author_id=89864)\"}, {\"layer\": [{\"mark\": \"bar\", \"encoding\": {\"color\": {\"type\": \"nominal\", \"field\": \"category\", \"legend\": {\"labelFontSize\": 15, \"titleFontSize\": 15}, \"scale\": {\"scheme\": \"dark2\"}}, \"x\": {\"type\": \"temporal\", \"axis\": {\"format\": \"%b %Y\", \"labelAngle\": -80, \"tickCount\": 30}, \"field\": \"start\", \"title\": \"timeline\"}, \"x2\": {\"field\": \"end\"}, \"y\": {\"type\": \"nominal\", \"axis\": {\"labels\": false}, \"field\": \"cat\", \"title\": \"categories\"}}, \"width\": 600}, {\"mark\": {\"type\": \"rule\", \"color\": \"Magenta\", \"strokeDash\": [5, 3]}, \"encoding\": {\"opacity\": {\"type\": \"temporal\", \"field\": \"acq_date\", \"legend\": {\"labelFontSize\": 15, \"titleFontSize\": 15}, \"title\": \"acquisition date\"}, \"x\": {\"type\": \"temporal\", \"field\": \"acq_date\"}}}], \"data\": {\"name\": \"data-df6d9af7d0596cc1969e611a5a5be0f3\"}, \"title\": \"Merged Timeframes (author_id=89864)\"}], \"$schema\": \"https://vega.github.io/schema/vega-lite/v4.8.1.json\", \"datasets\": {\"data-0d18ea3777786b5cc4ae0e9b774673cf\": [{\"start\": \"2001-01-01T00:00:00\", \"end\": \"2005-01-01T00:00:00\", \"category\": \"O\", \"acq_date\": \"2012-07-02T00:00:00\", \"cat\": \"00\"}, {\"start\": \"2005-10-01T00:00:00\", \"end\": \"2012-09-01T00:00:00\", \"category\": \"E\", \"acq_date\": \"2012-07-02T00:00:00\", \"cat\": \"01\"}, {\"start\": \"2012-09-01T00:00:00\", \"end\": \"2015-05-01T00:00:00\", \"category\": \"R\", \"acq_date\": \"2012-07-02T00:00:00\", \"cat\": \"02\"}, {\"start\": \"2015-05-01T00:00:00\", \"end\": \"2016-11-01T00:00:00\", \"category\": \"R\", \"acq_date\": \"2012-07-02T00:00:00\", \"cat\": \"03\"}, {\"start\": \"2016-11-01T00:00:00\", \"end\": \"2017-09-01T00:00:00\", \"category\": \"E\", \"acq_date\": \"2012-07-02T00:00:00\", \"cat\": \"04\"}, {\"start\": \"2017-09-01T00:00:00\", \"end\": \"2020-09-01T00:00:00\", \"category\": \"E\", \"acq_date\": \"2012-07-02T00:00:00\", \"cat\": \"05\"}], \"data-df6d9af7d0596cc1969e611a5a5be0f3\": [{\"start\": \"2001-01-01T00:00:00\", \"end\": \"2005-01-01T00:00:00\", \"category\": \"O\", \"acq_date\": \"2012-07-02T00:00:00\", \"cat\": \"00\"}, {\"start\": \"2005-10-01T00:00:00\", \"end\": \"2012-09-01T00:00:00\", \"category\": \"E\", \"acq_date\": \"2012-07-02T00:00:00\", \"cat\": \"01\"}, {\"start\": \"2012-09-01T00:00:00\", \"end\": \"2016-11-01T00:00:00\", \"category\": \"R\", \"acq_date\": \"2012-07-02T00:00:00\", \"cat\": \"02\"}, {\"start\": \"2016-11-01T00:00:00\", \"end\": \"2020-09-01T00:00:00\", \"category\": \"E\", \"acq_date\": \"2012-07-02T00:00:00\", \"cat\": \"03\"}]}}, {\"mode\": \"vega-lite\"});\n",
       "</script>"
      ],
      "text/plain": [
       "alt.VConcatChart(...)"
      ]
     },
     "metadata": {},
     "output_type": "display_data"
    },
    {
     "name": "stdout",
     "output_type": "stream",
     "text": [
      "==============================================================================================\n"
     ]
    }
   ],
   "source": [
    "def _create_timeline_chart(df):\n",
    "    \"\"\"\n",
    "    Creates a chart of time line (list of TimeFrames) using lin altair\n",
    "    Args:\n",
    "        df (pandas.DataFrame): The pandas.DataFrame containing the TimeFrames \n",
    "\n",
    "    Returns:\n",
    "        (altair.Chart): the altair Chart object representing the chart to be plotted \n",
    "    \"\"\"\n",
    "    tl_chart = alt.Chart(df).mark_bar().encode(\n",
    "        x = alt.X('start', title='timeline', axis=alt.Axis(labelAngle=-80, tickCount=30, format=(\"%b %Y\"))),\n",
    "        x2 = 'end',\n",
    "        y= alt.Y('cat', title='categories', axis=alt.Axis(labels=False)),\n",
    "        # column='category',\n",
    "        color=alt.Color('category', scale=alt.Scale(scheme='dark2'), legend=alt.Legend(labelFontSize=15, titleFontSize=15))\n",
    "    ).properties(width=600)\n",
    "\n",
    "    tl_chart.configure_legend(\n",
    "        labelFontSize=200\n",
    "    )\n",
    "\n",
    "    rule = alt.Chart(df).mark_rule(color='Magenta', strokeDash=[5,3]).encode(\n",
    "        x = 'acq_date:T',\n",
    "        opacity=alt.Opacity('acq_date', title=\"acquisition date\", legend=alt.Legend(labelFontSize=15, titleFontSize=15))    \n",
    "    )\n",
    "\n",
    "    return tl_chart + rule\n",
    "\n",
    "def plot_timeline(tl, aid, acq_date):\n",
    "    \"\"\"\n",
    "    Plots/Visualizes the time line (list of TimeFrames)\n",
    "    Args:\n",
    "        tl (list(TimeFrame)): a time line, which is a list of TimeFrame tuples  \n",
    "        aid (str): author ID, which is the ID of the employee in the acquisition data \n",
    "        acq_date (datetime): the datetime object representing the acquisition date\n",
    "    \"\"\"\n",
    "    # timeline = sorted(timeline, key=lambda x: x.start)\n",
    "    df_sorted = get_timeline_df(tl['sorted'][aid], acq_date)\n",
    "    df_merged = get_timeline_df(tl['merged'][aid], acq_date)\n",
    "\n",
    "    chart_sorted = _create_timeline_chart(df_sorted).properties(title=f'Sorted Timeframes (author_id={aid})')\n",
    "    chart_merged = _create_timeline_chart(df_merged).properties(title=f'Merged Timeframes (author_id={aid})')\n",
    "    chart = alt.vconcat(chart_sorted, chart_merged).configure_title(fontSize=17)\n",
    "    chart.display()\n",
    "\n",
    "with open(join(PARAM.PICKLES_DIR, 'presentation.pkl'), 'rb') as file:\n",
    "    tfs = pickle.load(file)\n",
    "\n",
    "for i, aid in enumerate(tfs['sorted'].keys()):\n",
    "    plot_timeline(tfs, aid, tfs['acq_date'][i])\n",
    "    print('==============================================================================================')"
   ]
  },
  {
   "cell_type": "code",
   "execution_count": 5,
   "metadata": {
    "colab": {
     "base_uri": "https://localhost:8080/",
     "height": 1000
    },
    "colab_type": "code",
    "executionInfo": {
     "elapsed": 893,
     "status": "ok",
     "timestamp": 1598988684871,
     "user": {
      "displayName": "Mã Anh",
      "photoUrl": "https://lh3.googleusercontent.com/a-/AOh14Gh3Kp9dwYudF7n2jVKH-Q-yrEPxD72BqHgcul_2Mg=s64",
      "userId": "06592296059947736632"
     },
     "user_tz": -120
    },
    "id": "DaQgjwR8AUFg",
    "outputId": "594c10ed-403b-4c03-ef44-7d9a77ac2634"
   },
   "outputs": [
    {
     "data": {
      "text/html": [
       "\n",
       "<div id=\"altair-viz-fef12c3e63334ca7bd86c510d004f9e2\"></div>\n",
       "<script type=\"text/javascript\">\n",
       "  (function(spec, embedOpt){\n",
       "    let outputDiv = document.currentScript.previousElementSibling;\n",
       "    if (outputDiv.id !== \"altair-viz-fef12c3e63334ca7bd86c510d004f9e2\") {\n",
       "      outputDiv = document.getElementById(\"altair-viz-fef12c3e63334ca7bd86c510d004f9e2\");\n",
       "    }\n",
       "    const paths = {\n",
       "      \"vega\": \"https://cdn.jsdelivr.net/npm//vega@5?noext\",\n",
       "      \"vega-lib\": \"https://cdn.jsdelivr.net/npm//vega-lib?noext\",\n",
       "      \"vega-lite\": \"https://cdn.jsdelivr.net/npm//vega-lite@4.8.1?noext\",\n",
       "      \"vega-embed\": \"https://cdn.jsdelivr.net/npm//vega-embed@6?noext\",\n",
       "    };\n",
       "\n",
       "    function loadScript(lib) {\n",
       "      return new Promise(function(resolve, reject) {\n",
       "        var s = document.createElement('script');\n",
       "        s.src = paths[lib];\n",
       "        s.async = true;\n",
       "        s.onload = () => resolve(paths[lib]);\n",
       "        s.onerror = () => reject(`Error loading script: ${paths[lib]}`);\n",
       "        document.getElementsByTagName(\"head\")[0].appendChild(s);\n",
       "      });\n",
       "    }\n",
       "\n",
       "    function showError(err) {\n",
       "      outputDiv.innerHTML = `<div class=\"error\" style=\"color:red;\">${err}</div>`;\n",
       "      throw err;\n",
       "    }\n",
       "\n",
       "    function displayChart(vegaEmbed) {\n",
       "      vegaEmbed(outputDiv, spec, embedOpt)\n",
       "        .catch(err => showError(`Javascript Error: ${err.message}<br>This usually means there's a typo in your chart specification. See the javascript console for the full traceback.`));\n",
       "    }\n",
       "\n",
       "    if(typeof define === \"function\" && define.amd) {\n",
       "      requirejs.config({paths});\n",
       "      require([\"vega-embed\"], displayChart, err => showError(`Error loading script: ${err.message}`));\n",
       "    } else if (typeof vegaEmbed === \"function\") {\n",
       "      displayChart(vegaEmbed);\n",
       "    } else {\n",
       "      loadScript(\"vega\")\n",
       "        .then(() => loadScript(\"vega-lite\"))\n",
       "        .then(() => loadScript(\"vega-embed\"))\n",
       "        .catch(showError)\n",
       "        .then(() => displayChart(vegaEmbed));\n",
       "    }\n",
       "  })({\"config\": {\"view\": {\"continuousWidth\": 400, \"continuousHeight\": 300}, \"title\": {\"fontSize\": 17}}, \"vconcat\": [{\"layer\": [{\"mark\": \"bar\", \"encoding\": {\"color\": {\"type\": \"nominal\", \"field\": \"category\", \"legend\": {\"labelFontSize\": 15, \"titleFontSize\": 15}, \"scale\": {\"scheme\": \"dark2\"}}, \"x\": {\"type\": \"temporal\", \"axis\": {\"format\": \"%b %Y\", \"labelAngle\": -80, \"tickCount\": 30}, \"field\": \"start\", \"title\": \"timeline\"}, \"x2\": {\"field\": \"end\"}, \"y\": {\"type\": \"nominal\", \"axis\": {\"labels\": false}, \"field\": \"cat\", \"title\": \"categories\"}}, \"width\": 600}, {\"mark\": {\"type\": \"rule\", \"color\": \"Magenta\", \"strokeDash\": [5, 3]}, \"encoding\": {\"opacity\": {\"type\": \"temporal\", \"field\": \"acq_date\", \"legend\": {\"labelFontSize\": 15, \"titleFontSize\": 15}, \"title\": \"acquisition date\"}, \"x\": {\"type\": \"temporal\", \"field\": \"acq_date\"}}}], \"data\": {\"name\": \"data-fb4acb33f79d738b214533e49bdc42f6\"}, \"title\": \"Sorted Timeframes (author_id=1940251)\"}, {\"layer\": [{\"mark\": \"bar\", \"encoding\": {\"color\": {\"type\": \"nominal\", \"field\": \"category\", \"legend\": {\"labelFontSize\": 15, \"titleFontSize\": 15}, \"scale\": {\"scheme\": \"dark2\"}}, \"x\": {\"type\": \"temporal\", \"axis\": {\"format\": \"%b %Y\", \"labelAngle\": -80, \"tickCount\": 30}, \"field\": \"start\", \"title\": \"timeline\"}, \"x2\": {\"field\": \"end\"}, \"y\": {\"type\": \"nominal\", \"axis\": {\"labels\": false}, \"field\": \"cat\", \"title\": \"categories\"}}, \"width\": 600}, {\"mark\": {\"type\": \"rule\", \"color\": \"Magenta\", \"strokeDash\": [5, 3]}, \"encoding\": {\"opacity\": {\"type\": \"temporal\", \"field\": \"acq_date\", \"legend\": {\"labelFontSize\": 15, \"titleFontSize\": 15}, \"title\": \"acquisition date\"}, \"x\": {\"type\": \"temporal\", \"field\": \"acq_date\"}}}], \"data\": {\"name\": \"data-fa52a1dfb1b2602bd784b02d3afa1768\"}, \"title\": \"Merged Timeframes (author_id=1940251)\"}], \"$schema\": \"https://vega.github.io/schema/vega-lite/v4.8.1.json\", \"datasets\": {\"data-fb4acb33f79d738b214533e49bdc42f6\": [{\"start\": \"1997-01-01T00:00:00\", \"end\": \"1999-01-01T00:00:00\", \"category\": \"O\", \"acq_date\": \"2013-09-17T00:00:00\", \"cat\": \"00\"}, {\"start\": \"1999-01-01T00:00:00\", \"end\": \"2001-01-01T00:00:00\", \"category\": \"O\", \"acq_date\": \"2013-09-17T00:00:00\", \"cat\": \"01\"}, {\"start\": \"2005-02-01T00:00:00\", \"end\": \"2013-02-01T00:00:00\", \"category\": \"E\", \"acq_date\": \"2013-09-17T00:00:00\", \"cat\": \"02\"}, {\"start\": \"2013-02-01T00:00:00\", \"end\": \"2013-12-01T00:00:00\", \"category\": \"E\", \"acq_date\": \"2013-09-17T00:00:00\", \"cat\": \"03\"}, {\"start\": \"2013-12-01T00:00:00\", \"end\": \"2015-01-01T00:00:00\", \"category\": \"R\", \"acq_date\": \"2013-09-17T00:00:00\", \"cat\": \"04\"}, {\"start\": \"2014-01-01T00:00:00\", \"end\": \"2015-09-01T00:00:00\", \"category\": \"E\", \"acq_date\": \"2013-09-17T00:00:00\", \"cat\": \"05\"}, {\"start\": \"2014-03-01T00:00:00\", \"end\": \"2016-01-01T00:00:00\", \"category\": \"E\", \"acq_date\": \"2013-09-17T00:00:00\", \"cat\": \"06\"}, {\"start\": \"2015-01-01T00:00:00\", \"end\": \"2018-03-01T00:00:00\", \"category\": \"E\", \"acq_date\": \"2013-09-17T00:00:00\", \"cat\": \"07\"}, {\"start\": \"2017-11-01T00:00:00\", \"end\": \"2020-09-01T00:00:00\", \"category\": \"O\", \"acq_date\": \"2013-09-17T00:00:00\", \"cat\": \"08\"}, {\"start\": \"2018-04-01T00:00:00\", \"end\": \"2020-09-01T00:00:00\", \"category\": \"E\", \"acq_date\": \"2013-09-17T00:00:00\", \"cat\": \"09\"}], \"data-fa52a1dfb1b2602bd784b02d3afa1768\": [{\"start\": \"1997-01-01T00:00:00\", \"end\": \"2001-01-01T00:00:00\", \"category\": \"O\", \"acq_date\": \"2013-09-17T00:00:00\", \"cat\": \"00\"}, {\"start\": \"2005-02-01T00:00:00\", \"end\": \"2020-09-01T00:00:00\", \"category\": \"E\", \"acq_date\": \"2013-09-17T00:00:00\", \"cat\": \"01\"}, {\"start\": \"2013-12-01T00:00:00\", \"end\": \"2015-01-01T00:00:00\", \"category\": \"R\", \"acq_date\": \"2013-09-17T00:00:00\", \"cat\": \"02\"}, {\"start\": \"2017-11-01T00:00:00\", \"end\": \"2020-09-01T00:00:00\", \"category\": \"O\", \"acq_date\": \"2013-09-17T00:00:00\", \"cat\": \"03\"}]}}, {\"mode\": \"vega-lite\"});\n",
       "</script>"
      ],
      "text/plain": [
       "alt.VConcatChart(...)"
      ]
     },
     "metadata": {},
     "output_type": "display_data"
    },
    {
     "name": "stdout",
     "output_type": "stream",
     "text": [
      "==============================================================================================\n"
     ]
    },
    {
     "data": {
      "text/html": [
       "\n",
       "<div id=\"altair-viz-ff8e8635dc554dafba778ada6d524ae8\"></div>\n",
       "<script type=\"text/javascript\">\n",
       "  (function(spec, embedOpt){\n",
       "    let outputDiv = document.currentScript.previousElementSibling;\n",
       "    if (outputDiv.id !== \"altair-viz-ff8e8635dc554dafba778ada6d524ae8\") {\n",
       "      outputDiv = document.getElementById(\"altair-viz-ff8e8635dc554dafba778ada6d524ae8\");\n",
       "    }\n",
       "    const paths = {\n",
       "      \"vega\": \"https://cdn.jsdelivr.net/npm//vega@5?noext\",\n",
       "      \"vega-lib\": \"https://cdn.jsdelivr.net/npm//vega-lib?noext\",\n",
       "      \"vega-lite\": \"https://cdn.jsdelivr.net/npm//vega-lite@4.8.1?noext\",\n",
       "      \"vega-embed\": \"https://cdn.jsdelivr.net/npm//vega-embed@6?noext\",\n",
       "    };\n",
       "\n",
       "    function loadScript(lib) {\n",
       "      return new Promise(function(resolve, reject) {\n",
       "        var s = document.createElement('script');\n",
       "        s.src = paths[lib];\n",
       "        s.async = true;\n",
       "        s.onload = () => resolve(paths[lib]);\n",
       "        s.onerror = () => reject(`Error loading script: ${paths[lib]}`);\n",
       "        document.getElementsByTagName(\"head\")[0].appendChild(s);\n",
       "      });\n",
       "    }\n",
       "\n",
       "    function showError(err) {\n",
       "      outputDiv.innerHTML = `<div class=\"error\" style=\"color:red;\">${err}</div>`;\n",
       "      throw err;\n",
       "    }\n",
       "\n",
       "    function displayChart(vegaEmbed) {\n",
       "      vegaEmbed(outputDiv, spec, embedOpt)\n",
       "        .catch(err => showError(`Javascript Error: ${err.message}<br>This usually means there's a typo in your chart specification. See the javascript console for the full traceback.`));\n",
       "    }\n",
       "\n",
       "    if(typeof define === \"function\" && define.amd) {\n",
       "      requirejs.config({paths});\n",
       "      require([\"vega-embed\"], displayChart, err => showError(`Error loading script: ${err.message}`));\n",
       "    } else if (typeof vegaEmbed === \"function\") {\n",
       "      displayChart(vegaEmbed);\n",
       "    } else {\n",
       "      loadScript(\"vega\")\n",
       "        .then(() => loadScript(\"vega-lite\"))\n",
       "        .then(() => loadScript(\"vega-embed\"))\n",
       "        .catch(showError)\n",
       "        .then(() => displayChart(vegaEmbed));\n",
       "    }\n",
       "  })({\"config\": {\"view\": {\"continuousWidth\": 400, \"continuousHeight\": 300}, \"title\": {\"fontSize\": 17}}, \"vconcat\": [{\"layer\": [{\"mark\": \"bar\", \"encoding\": {\"color\": {\"type\": \"nominal\", \"field\": \"category\", \"legend\": {\"labelFontSize\": 15, \"titleFontSize\": 15}, \"scale\": {\"scheme\": \"dark2\"}}, \"x\": {\"type\": \"temporal\", \"axis\": {\"format\": \"%b %Y\", \"labelAngle\": -80, \"tickCount\": 30}, \"field\": \"start\", \"title\": \"timeline\"}, \"x2\": {\"field\": \"end\"}, \"y\": {\"type\": \"nominal\", \"axis\": {\"labels\": false}, \"field\": \"cat\", \"title\": \"categories\"}}, \"width\": 600}, {\"mark\": {\"type\": \"rule\", \"color\": \"Magenta\", \"strokeDash\": [5, 3]}, \"encoding\": {\"opacity\": {\"type\": \"temporal\", \"field\": \"acq_date\", \"legend\": {\"labelFontSize\": 15, \"titleFontSize\": 15}, \"title\": \"acquisition date\"}, \"x\": {\"type\": \"temporal\", \"field\": \"acq_date\"}}}], \"data\": {\"name\": \"data-1bc69cf3410ca26113a9bb96d18191d4\"}, \"title\": \"Sorted Timeframes (author_id=1874543)\"}, {\"layer\": [{\"mark\": \"bar\", \"encoding\": {\"color\": {\"type\": \"nominal\", \"field\": \"category\", \"legend\": {\"labelFontSize\": 15, \"titleFontSize\": 15}, \"scale\": {\"scheme\": \"dark2\"}}, \"x\": {\"type\": \"temporal\", \"axis\": {\"format\": \"%b %Y\", \"labelAngle\": -80, \"tickCount\": 30}, \"field\": \"start\", \"title\": \"timeline\"}, \"x2\": {\"field\": \"end\"}, \"y\": {\"type\": \"nominal\", \"axis\": {\"labels\": false}, \"field\": \"cat\", \"title\": \"categories\"}}, \"width\": 600}, {\"mark\": {\"type\": \"rule\", \"color\": \"Magenta\", \"strokeDash\": [5, 3]}, \"encoding\": {\"opacity\": {\"type\": \"temporal\", \"field\": \"acq_date\", \"legend\": {\"labelFontSize\": 15, \"titleFontSize\": 15}, \"title\": \"acquisition date\"}, \"x\": {\"type\": \"temporal\", \"field\": \"acq_date\"}}}], \"data\": {\"name\": \"data-bed8b2f3f2333862cea931066e17b28b\"}, \"title\": \"Merged Timeframes (author_id=1874543)\"}], \"$schema\": \"https://vega.github.io/schema/vega-lite/v4.8.1.json\", \"datasets\": {\"data-1bc69cf3410ca26113a9bb96d18191d4\": [{\"start\": \"2008-06-01T00:00:00\", \"end\": \"2008-08-01T00:00:00\", \"category\": \"O\", \"acq_date\": \"2015-12-16T00:00:00\", \"cat\": \"00\"}, {\"start\": \"2009-06-01T00:00:00\", \"end\": \"2009-08-01T00:00:00\", \"category\": \"O\", \"acq_date\": \"2015-12-16T00:00:00\", \"cat\": \"01\"}, {\"start\": \"2011-01-01T00:00:00\", \"end\": \"2011-05-01T00:00:00\", \"category\": \"O\", \"acq_date\": \"2015-12-16T00:00:00\", \"cat\": \"02\"}, {\"start\": \"2011-07-01T00:00:00\", \"end\": \"2013-12-01T00:00:00\", \"category\": \"E\", \"acq_date\": \"2015-12-16T00:00:00\", \"cat\": \"03\"}, {\"start\": \"2011-07-01T00:00:00\", \"end\": \"2011-11-01T00:00:00\", \"category\": \"O\", \"acq_date\": \"2015-12-16T00:00:00\", \"cat\": \"04\"}, {\"start\": \"2011-11-01T00:00:00\", \"end\": \"2012-03-01T00:00:00\", \"category\": \"O\", \"acq_date\": \"2015-12-16T00:00:00\", \"cat\": \"05\"}, {\"start\": \"2012-03-01T00:00:00\", \"end\": \"2013-04-01T00:00:00\", \"category\": \"O\", \"acq_date\": \"2015-12-16T00:00:00\", \"cat\": \"06\"}, {\"start\": \"2013-05-01T00:00:00\", \"end\": \"2013-06-01T00:00:00\", \"category\": \"O\", \"acq_date\": \"2015-12-16T00:00:00\", \"cat\": \"07\"}, {\"start\": \"2013-07-01T00:00:00\", \"end\": \"2014-02-01T00:00:00\", \"category\": \"O\", \"acq_date\": \"2015-12-16T00:00:00\", \"cat\": \"08\"}, {\"start\": \"2013-10-01T00:00:00\", \"end\": \"2013-11-01T00:00:00\", \"category\": \"O\", \"acq_date\": \"2015-12-16T00:00:00\", \"cat\": \"09\"}, {\"start\": \"2013-11-01T00:00:00\", \"end\": \"2015-01-01T00:00:00\", \"category\": \"O\", \"acq_date\": \"2015-12-16T00:00:00\", \"cat\": \"10\"}, {\"start\": \"2013-12-01T00:00:00\", \"end\": \"2016-01-01T00:00:00\", \"category\": \"E\", \"acq_date\": \"2015-12-16T00:00:00\", \"cat\": \"11\"}, {\"start\": \"2014-10-01T00:00:00\", \"end\": \"2014-12-01T00:00:00\", \"category\": \"O\", \"acq_date\": \"2015-12-16T00:00:00\", \"cat\": \"12\"}, {\"start\": \"2015-01-01T00:00:00\", \"end\": \"2015-12-01T00:00:00\", \"category\": \"O\", \"acq_date\": \"2015-12-16T00:00:00\", \"cat\": \"13\"}, {\"start\": \"2015-12-01T00:00:00\", \"end\": \"2016-06-01T00:00:00\", \"category\": \"O\", \"acq_date\": \"2015-12-16T00:00:00\", \"cat\": \"14\"}, {\"start\": \"2016-01-01T00:00:00\", \"end\": \"2018-02-01T00:00:00\", \"category\": \"E\", \"acq_date\": \"2015-12-16T00:00:00\", \"cat\": \"15\"}, {\"start\": \"2016-06-01T00:00:00\", \"end\": \"2016-09-01T00:00:00\", \"category\": \"O\", \"acq_date\": \"2015-12-16T00:00:00\", \"cat\": \"16\"}, {\"start\": \"2016-09-01T00:00:00\", \"end\": \"2017-05-01T00:00:00\", \"category\": \"O\", \"acq_date\": \"2015-12-16T00:00:00\", \"cat\": \"17\"}, {\"start\": \"2017-06-01T00:00:00\", \"end\": \"2017-09-01T00:00:00\", \"category\": \"O\", \"acq_date\": \"2015-12-16T00:00:00\", \"cat\": \"18\"}, {\"start\": \"2017-10-01T00:00:00\", \"end\": \"2018-01-01T00:00:00\", \"category\": \"O\", \"acq_date\": \"2015-12-16T00:00:00\", \"cat\": \"19\"}, {\"start\": \"2018-02-01T00:00:00\", \"end\": \"2019-08-01T00:00:00\", \"category\": \"E\", \"acq_date\": \"2015-12-16T00:00:00\", \"cat\": \"20\"}, {\"start\": \"2018-03-01T00:00:00\", \"end\": \"2018-09-01T00:00:00\", \"category\": \"O\", \"acq_date\": \"2015-12-16T00:00:00\", \"cat\": \"21\"}, {\"start\": \"2018-09-01T00:00:00\", \"end\": \"2020-04-01T00:00:00\", \"category\": \"O\", \"acq_date\": \"2015-12-16T00:00:00\", \"cat\": \"22\"}, {\"start\": \"2019-08-01T00:00:00\", \"end\": \"2020-09-01T00:00:00\", \"category\": \"E\", \"acq_date\": \"2015-12-16T00:00:00\", \"cat\": \"23\"}], \"data-bed8b2f3f2333862cea931066e17b28b\": [{\"start\": \"2008-06-01T00:00:00\", \"end\": \"2008-08-01T00:00:00\", \"category\": \"O\", \"acq_date\": \"2015-12-16T00:00:00\", \"cat\": \"00\"}, {\"start\": \"2009-06-01T00:00:00\", \"end\": \"2009-08-01T00:00:00\", \"category\": \"O\", \"acq_date\": \"2015-12-16T00:00:00\", \"cat\": \"01\"}, {\"start\": \"2011-01-01T00:00:00\", \"end\": \"2020-04-01T00:00:00\", \"category\": \"O\", \"acq_date\": \"2015-12-16T00:00:00\", \"cat\": \"02\"}, {\"start\": \"2011-07-01T00:00:00\", \"end\": \"2020-09-01T00:00:00\", \"category\": \"E\", \"acq_date\": \"2015-12-16T00:00:00\", \"cat\": \"03\"}]}}, {\"mode\": \"vega-lite\"});\n",
       "</script>"
      ],
      "text/plain": [
       "alt.VConcatChart(...)"
      ]
     },
     "metadata": {},
     "output_type": "display_data"
    },
    {
     "name": "stdout",
     "output_type": "stream",
     "text": [
      "==============================================================================================\n"
     ]
    },
    {
     "data": {
      "text/html": [
       "\n",
       "<div id=\"altair-viz-849c13a3461b4f96b84ee04dd0be8a4c\"></div>\n",
       "<script type=\"text/javascript\">\n",
       "  (function(spec, embedOpt){\n",
       "    let outputDiv = document.currentScript.previousElementSibling;\n",
       "    if (outputDiv.id !== \"altair-viz-849c13a3461b4f96b84ee04dd0be8a4c\") {\n",
       "      outputDiv = document.getElementById(\"altair-viz-849c13a3461b4f96b84ee04dd0be8a4c\");\n",
       "    }\n",
       "    const paths = {\n",
       "      \"vega\": \"https://cdn.jsdelivr.net/npm//vega@5?noext\",\n",
       "      \"vega-lib\": \"https://cdn.jsdelivr.net/npm//vega-lib?noext\",\n",
       "      \"vega-lite\": \"https://cdn.jsdelivr.net/npm//vega-lite@4.8.1?noext\",\n",
       "      \"vega-embed\": \"https://cdn.jsdelivr.net/npm//vega-embed@6?noext\",\n",
       "    };\n",
       "\n",
       "    function loadScript(lib) {\n",
       "      return new Promise(function(resolve, reject) {\n",
       "        var s = document.createElement('script');\n",
       "        s.src = paths[lib];\n",
       "        s.async = true;\n",
       "        s.onload = () => resolve(paths[lib]);\n",
       "        s.onerror = () => reject(`Error loading script: ${paths[lib]}`);\n",
       "        document.getElementsByTagName(\"head\")[0].appendChild(s);\n",
       "      });\n",
       "    }\n",
       "\n",
       "    function showError(err) {\n",
       "      outputDiv.innerHTML = `<div class=\"error\" style=\"color:red;\">${err}</div>`;\n",
       "      throw err;\n",
       "    }\n",
       "\n",
       "    function displayChart(vegaEmbed) {\n",
       "      vegaEmbed(outputDiv, spec, embedOpt)\n",
       "        .catch(err => showError(`Javascript Error: ${err.message}<br>This usually means there's a typo in your chart specification. See the javascript console for the full traceback.`));\n",
       "    }\n",
       "\n",
       "    if(typeof define === \"function\" && define.amd) {\n",
       "      requirejs.config({paths});\n",
       "      require([\"vega-embed\"], displayChart, err => showError(`Error loading script: ${err.message}`));\n",
       "    } else if (typeof vegaEmbed === \"function\") {\n",
       "      displayChart(vegaEmbed);\n",
       "    } else {\n",
       "      loadScript(\"vega\")\n",
       "        .then(() => loadScript(\"vega-lite\"))\n",
       "        .then(() => loadScript(\"vega-embed\"))\n",
       "        .catch(showError)\n",
       "        .then(() => displayChart(vegaEmbed));\n",
       "    }\n",
       "  })({\"config\": {\"view\": {\"continuousWidth\": 400, \"continuousHeight\": 300}, \"title\": {\"fontSize\": 17}}, \"vconcat\": [{\"layer\": [{\"mark\": \"bar\", \"encoding\": {\"color\": {\"type\": \"nominal\", \"field\": \"category\", \"legend\": {\"labelFontSize\": 15, \"titleFontSize\": 15}, \"scale\": {\"scheme\": \"dark2\"}}, \"x\": {\"type\": \"temporal\", \"axis\": {\"format\": \"%b %Y\", \"labelAngle\": -80, \"tickCount\": 30}, \"field\": \"start\", \"title\": \"timeline\"}, \"x2\": {\"field\": \"end\"}, \"y\": {\"type\": \"nominal\", \"axis\": {\"labels\": false}, \"field\": \"cat\", \"title\": \"categories\"}}, \"width\": 600}, {\"mark\": {\"type\": \"rule\", \"color\": \"Magenta\", \"strokeDash\": [5, 3]}, \"encoding\": {\"opacity\": {\"type\": \"temporal\", \"field\": \"acq_date\", \"legend\": {\"labelFontSize\": 15, \"titleFontSize\": 15}, \"title\": \"acquisition date\"}, \"x\": {\"type\": \"temporal\", \"field\": \"acq_date\"}}}], \"data\": {\"name\": \"data-d7aa81f0733d2aedd3595b6998c652af\"}, \"title\": \"Sorted Timeframes (author_id=277462)\"}, {\"layer\": [{\"mark\": \"bar\", \"encoding\": {\"color\": {\"type\": \"nominal\", \"field\": \"category\", \"legend\": {\"labelFontSize\": 15, \"titleFontSize\": 15}, \"scale\": {\"scheme\": \"dark2\"}}, \"x\": {\"type\": \"temporal\", \"axis\": {\"format\": \"%b %Y\", \"labelAngle\": -80, \"tickCount\": 30}, \"field\": \"start\", \"title\": \"timeline\"}, \"x2\": {\"field\": \"end\"}, \"y\": {\"type\": \"nominal\", \"axis\": {\"labels\": false}, \"field\": \"cat\", \"title\": \"categories\"}}, \"width\": 600}, {\"mark\": {\"type\": \"rule\", \"color\": \"Magenta\", \"strokeDash\": [5, 3]}, \"encoding\": {\"opacity\": {\"type\": \"temporal\", \"field\": \"acq_date\", \"legend\": {\"labelFontSize\": 15, \"titleFontSize\": 15}, \"title\": \"acquisition date\"}, \"x\": {\"type\": \"temporal\", \"field\": \"acq_date\"}}}], \"data\": {\"name\": \"data-7e0fda6d6e3b838de9029dedfe502f4a\"}, \"title\": \"Merged Timeframes (author_id=277462)\"}], \"$schema\": \"https://vega.github.io/schema/vega-lite/v4.8.1.json\", \"datasets\": {\"data-d7aa81f0733d2aedd3595b6998c652af\": [{\"start\": \"2001-01-01T00:00:00\", \"end\": \"2003-03-01T00:00:00\", \"category\": \"O\", \"acq_date\": \"2017-08-23T00:00:00\", \"cat\": \"00\"}, {\"start\": \"2003-03-01T00:00:00\", \"end\": \"2005-06-01T00:00:00\", \"category\": \"O\", \"acq_date\": \"2017-08-23T00:00:00\", \"cat\": \"01\"}, {\"start\": \"2005-01-01T00:00:00\", \"end\": \"2006-08-01T00:00:00\", \"category\": \"O\", \"acq_date\": \"2017-08-23T00:00:00\", \"cat\": \"02\"}, {\"start\": \"2006-09-01T00:00:00\", \"end\": \"2012-02-01T00:00:00\", \"category\": \"E\", \"acq_date\": \"2017-08-23T00:00:00\", \"cat\": \"03\"}, {\"start\": \"2006-10-01T00:00:00\", \"end\": \"2007-07-01T00:00:00\", \"category\": \"O\", \"acq_date\": \"2017-08-23T00:00:00\", \"cat\": \"04\"}, {\"start\": \"2007-07-01T00:00:00\", \"end\": \"2007-10-01T00:00:00\", \"category\": \"O\", \"acq_date\": \"2017-08-23T00:00:00\", \"cat\": \"05\"}, {\"start\": \"2008-02-01T00:00:00\", \"end\": \"2008-06-01T00:00:00\", \"category\": \"O\", \"acq_date\": \"2017-08-23T00:00:00\", \"cat\": \"06\"}, {\"start\": \"2008-08-01T00:00:00\", \"end\": \"2008-09-01T00:00:00\", \"category\": \"O\", \"acq_date\": \"2017-08-23T00:00:00\", \"cat\": \"07\"}, {\"start\": \"2008-10-01T00:00:00\", \"end\": \"2010-05-01T00:00:00\", \"category\": \"O\", \"acq_date\": \"2017-08-23T00:00:00\", \"cat\": \"08\"}, {\"start\": \"2010-05-01T00:00:00\", \"end\": \"2012-01-01T00:00:00\", \"category\": \"O\", \"acq_date\": \"2017-08-23T00:00:00\", \"cat\": \"09\"}, {\"start\": \"2012-01-01T00:00:00\", \"end\": \"2012-04-01T00:00:00\", \"category\": \"O\", \"acq_date\": \"2017-08-23T00:00:00\", \"cat\": \"10\"}, {\"start\": \"2012-02-01T00:00:00\", \"end\": \"2014-12-01T00:00:00\", \"category\": \"E\", \"acq_date\": \"2017-08-23T00:00:00\", \"cat\": \"11\"}, {\"start\": \"2012-07-01T00:00:00\", \"end\": \"2013-02-01T00:00:00\", \"category\": \"O\", \"acq_date\": \"2017-08-23T00:00:00\", \"cat\": \"12\"}, {\"start\": \"2013-04-01T00:00:00\", \"end\": \"2013-06-01T00:00:00\", \"category\": \"O\", \"acq_date\": \"2017-08-23T00:00:00\", \"cat\": \"13\"}, {\"start\": \"2013-06-01T00:00:00\", \"end\": \"2014-03-01T00:00:00\", \"category\": \"O\", \"acq_date\": \"2017-08-23T00:00:00\", \"cat\": \"14\"}, {\"start\": \"2013-07-01T00:00:00\", \"end\": \"2013-12-01T00:00:00\", \"category\": \"O\", \"acq_date\": \"2017-08-23T00:00:00\", \"cat\": \"15\"}, {\"start\": \"2014-03-01T00:00:00\", \"end\": \"2014-10-01T00:00:00\", \"category\": \"O\", \"acq_date\": \"2017-08-23T00:00:00\", \"cat\": \"16\"}, {\"start\": \"2015-01-01T00:00:00\", \"end\": \"2015-12-01T00:00:00\", \"category\": \"E\", \"acq_date\": \"2017-08-23T00:00:00\", \"cat\": \"17\"}, {\"start\": \"2016-01-01T00:00:00\", \"end\": \"2017-09-01T00:00:00\", \"category\": \"E\", \"acq_date\": \"2017-08-23T00:00:00\", \"cat\": \"18\"}, {\"start\": \"2017-09-01T00:00:00\", \"end\": \"2020-09-01T00:00:00\", \"category\": \"E\", \"acq_date\": \"2017-08-23T00:00:00\", \"cat\": \"19\"}], \"data-7e0fda6d6e3b838de9029dedfe502f4a\": [{\"start\": \"2001-01-01T00:00:00\", \"end\": \"2007-10-01T00:00:00\", \"category\": \"O\", \"acq_date\": \"2017-08-23T00:00:00\", \"cat\": \"00\"}, {\"start\": \"2006-09-01T00:00:00\", \"end\": \"2020-09-01T00:00:00\", \"category\": \"E\", \"acq_date\": \"2017-08-23T00:00:00\", \"cat\": \"01\"}, {\"start\": \"2008-02-01T00:00:00\", \"end\": \"2012-04-01T00:00:00\", \"category\": \"O\", \"acq_date\": \"2017-08-23T00:00:00\", \"cat\": \"02\"}, {\"start\": \"2012-07-01T00:00:00\", \"end\": \"2014-10-01T00:00:00\", \"category\": \"O\", \"acq_date\": \"2017-08-23T00:00:00\", \"cat\": \"03\"}]}}, {\"mode\": \"vega-lite\"});\n",
       "</script>"
      ],
      "text/plain": [
       "alt.VConcatChart(...)"
      ]
     },
     "metadata": {},
     "output_type": "display_data"
    },
    {
     "name": "stdout",
     "output_type": "stream",
     "text": [
      "==============================================================================================\n"
     ]
    },
    {
     "data": {
      "text/html": [
       "\n",
       "<div id=\"altair-viz-956f72833f084eb3ad5a610ca8bd2f59\"></div>\n",
       "<script type=\"text/javascript\">\n",
       "  (function(spec, embedOpt){\n",
       "    let outputDiv = document.currentScript.previousElementSibling;\n",
       "    if (outputDiv.id !== \"altair-viz-956f72833f084eb3ad5a610ca8bd2f59\") {\n",
       "      outputDiv = document.getElementById(\"altair-viz-956f72833f084eb3ad5a610ca8bd2f59\");\n",
       "    }\n",
       "    const paths = {\n",
       "      \"vega\": \"https://cdn.jsdelivr.net/npm//vega@5?noext\",\n",
       "      \"vega-lib\": \"https://cdn.jsdelivr.net/npm//vega-lib?noext\",\n",
       "      \"vega-lite\": \"https://cdn.jsdelivr.net/npm//vega-lite@4.8.1?noext\",\n",
       "      \"vega-embed\": \"https://cdn.jsdelivr.net/npm//vega-embed@6?noext\",\n",
       "    };\n",
       "\n",
       "    function loadScript(lib) {\n",
       "      return new Promise(function(resolve, reject) {\n",
       "        var s = document.createElement('script');\n",
       "        s.src = paths[lib];\n",
       "        s.async = true;\n",
       "        s.onload = () => resolve(paths[lib]);\n",
       "        s.onerror = () => reject(`Error loading script: ${paths[lib]}`);\n",
       "        document.getElementsByTagName(\"head\")[0].appendChild(s);\n",
       "      });\n",
       "    }\n",
       "\n",
       "    function showError(err) {\n",
       "      outputDiv.innerHTML = `<div class=\"error\" style=\"color:red;\">${err}</div>`;\n",
       "      throw err;\n",
       "    }\n",
       "\n",
       "    function displayChart(vegaEmbed) {\n",
       "      vegaEmbed(outputDiv, spec, embedOpt)\n",
       "        .catch(err => showError(`Javascript Error: ${err.message}<br>This usually means there's a typo in your chart specification. See the javascript console for the full traceback.`));\n",
       "    }\n",
       "\n",
       "    if(typeof define === \"function\" && define.amd) {\n",
       "      requirejs.config({paths});\n",
       "      require([\"vega-embed\"], displayChart, err => showError(`Error loading script: ${err.message}`));\n",
       "    } else if (typeof vegaEmbed === \"function\") {\n",
       "      displayChart(vegaEmbed);\n",
       "    } else {\n",
       "      loadScript(\"vega\")\n",
       "        .then(() => loadScript(\"vega-lite\"))\n",
       "        .then(() => loadScript(\"vega-embed\"))\n",
       "        .catch(showError)\n",
       "        .then(() => displayChart(vegaEmbed));\n",
       "    }\n",
       "  })({\"config\": {\"view\": {\"continuousWidth\": 400, \"continuousHeight\": 300}, \"title\": {\"fontSize\": 17}}, \"vconcat\": [{\"layer\": [{\"mark\": \"bar\", \"encoding\": {\"color\": {\"type\": \"nominal\", \"field\": \"category\", \"legend\": {\"labelFontSize\": 15, \"titleFontSize\": 15}, \"scale\": {\"scheme\": \"dark2\"}}, \"x\": {\"type\": \"temporal\", \"axis\": {\"format\": \"%b %Y\", \"labelAngle\": -80, \"tickCount\": 30}, \"field\": \"start\", \"title\": \"timeline\"}, \"x2\": {\"field\": \"end\"}, \"y\": {\"type\": \"nominal\", \"axis\": {\"labels\": false}, \"field\": \"cat\", \"title\": \"categories\"}}, \"width\": 600}, {\"mark\": {\"type\": \"rule\", \"color\": \"Magenta\", \"strokeDash\": [5, 3]}, \"encoding\": {\"opacity\": {\"type\": \"temporal\", \"field\": \"acq_date\", \"legend\": {\"labelFontSize\": 15, \"titleFontSize\": 15}, \"title\": \"acquisition date\"}, \"x\": {\"type\": \"temporal\", \"field\": \"acq_date\"}}}], \"data\": {\"name\": \"data-ba94de5dc156db4533b4b885fbf2cee7\"}, \"title\": \"Sorted Timeframes (author_id=7003295)\"}, {\"layer\": [{\"mark\": \"bar\", \"encoding\": {\"color\": {\"type\": \"nominal\", \"field\": \"category\", \"legend\": {\"labelFontSize\": 15, \"titleFontSize\": 15}, \"scale\": {\"scheme\": \"dark2\"}}, \"x\": {\"type\": \"temporal\", \"axis\": {\"format\": \"%b %Y\", \"labelAngle\": -80, \"tickCount\": 30}, \"field\": \"start\", \"title\": \"timeline\"}, \"x2\": {\"field\": \"end\"}, \"y\": {\"type\": \"nominal\", \"axis\": {\"labels\": false}, \"field\": \"cat\", \"title\": \"categories\"}}, \"width\": 600}, {\"mark\": {\"type\": \"rule\", \"color\": \"Magenta\", \"strokeDash\": [5, 3]}, \"encoding\": {\"opacity\": {\"type\": \"temporal\", \"field\": \"acq_date\", \"legend\": {\"labelFontSize\": 15, \"titleFontSize\": 15}, \"title\": \"acquisition date\"}, \"x\": {\"type\": \"temporal\", \"field\": \"acq_date\"}}}], \"data\": {\"name\": \"data-307bfc243dbdce174e336da189a0f8a8\"}, \"title\": \"Merged Timeframes (author_id=7003295)\"}], \"$schema\": \"https://vega.github.io/schema/vega-lite/v4.8.1.json\", \"datasets\": {\"data-ba94de5dc156db4533b4b885fbf2cee7\": [{\"start\": \"2004-05-01T00:00:00\", \"end\": \"2005-04-01T00:00:00\", \"category\": \"O\", \"acq_date\": \"2018-04-03T00:00:00\", \"cat\": \"00\"}, {\"start\": \"2005-09-01T00:00:00\", \"end\": \"2005-12-01T00:00:00\", \"category\": \"E\", \"acq_date\": \"2018-04-03T00:00:00\", \"cat\": \"01\"}, {\"start\": \"2006-07-01T00:00:00\", \"end\": \"2007-07-01T00:00:00\", \"category\": \"E\", \"acq_date\": \"2018-04-03T00:00:00\", \"cat\": \"02\"}, {\"start\": \"2007-08-01T00:00:00\", \"end\": \"2009-02-01T00:00:00\", \"category\": \"E\", \"acq_date\": \"2018-04-03T00:00:00\", \"cat\": \"03\"}, {\"start\": \"2009-02-01T00:00:00\", \"end\": \"2009-10-01T00:00:00\", \"category\": \"E\", \"acq_date\": \"2018-04-03T00:00:00\", \"cat\": \"04\"}, {\"start\": \"2009-10-01T00:00:00\", \"end\": \"2010-07-01T00:00:00\", \"category\": \"E\", \"acq_date\": \"2018-04-03T00:00:00\", \"cat\": \"05\"}, {\"start\": \"2010-01-01T00:00:00\", \"end\": \"2012-07-01T00:00:00\", \"category\": \"O\", \"acq_date\": \"2018-04-03T00:00:00\", \"cat\": \"06\"}, {\"start\": \"2010-07-01T00:00:00\", \"end\": \"2012-06-01T00:00:00\", \"category\": \"E\", \"acq_date\": \"2018-04-03T00:00:00\", \"cat\": \"07\"}, {\"start\": \"2010-07-01T00:00:00\", \"end\": \"2011-06-01T00:00:00\", \"category\": \"O\", \"acq_date\": \"2018-04-03T00:00:00\", \"cat\": \"08\"}, {\"start\": \"2011-01-01T00:00:00\", \"end\": \"2012-12-01T00:00:00\", \"category\": \"O\", \"acq_date\": \"2018-04-03T00:00:00\", \"cat\": \"09\"}, {\"start\": \"2012-07-01T00:00:00\", \"end\": \"2016-02-01T00:00:00\", \"category\": \"E\", \"acq_date\": \"2018-04-03T00:00:00\", \"cat\": \"10\"}, {\"start\": \"2016-03-01T00:00:00\", \"end\": \"2018-03-01T00:00:00\", \"category\": \"E\", \"acq_date\": \"2018-04-03T00:00:00\", \"cat\": \"11\"}, {\"start\": \"2018-04-01T00:00:00\", \"end\": \"2020-09-01T00:00:00\", \"category\": \"E\", \"acq_date\": \"2018-04-03T00:00:00\", \"cat\": \"12\"}], \"data-307bfc243dbdce174e336da189a0f8a8\": [{\"start\": \"2004-05-01T00:00:00\", \"end\": \"2005-04-01T00:00:00\", \"category\": \"O\", \"acq_date\": \"2018-04-03T00:00:00\", \"cat\": \"00\"}, {\"start\": \"2005-09-01T00:00:00\", \"end\": \"2005-12-01T00:00:00\", \"category\": \"E\", \"acq_date\": \"2018-04-03T00:00:00\", \"cat\": \"01\"}, {\"start\": \"2006-07-01T00:00:00\", \"end\": \"2020-09-01T00:00:00\", \"category\": \"E\", \"acq_date\": \"2018-04-03T00:00:00\", \"cat\": \"02\"}, {\"start\": \"2010-01-01T00:00:00\", \"end\": \"2012-12-01T00:00:00\", \"category\": \"O\", \"acq_date\": \"2018-04-03T00:00:00\", \"cat\": \"03\"}]}}, {\"mode\": \"vega-lite\"});\n",
       "</script>"
      ],
      "text/plain": [
       "alt.VConcatChart(...)"
      ]
     },
     "metadata": {},
     "output_type": "display_data"
    },
    {
     "name": "stdout",
     "output_type": "stream",
     "text": [
      "==============================================================================================\n"
     ]
    }
   ],
   "source": [
    "merges_tfs_2 = None\n",
    "with open(join(PARAM.PICKLES_DIR, 'merges_2.pkl'), 'rb') as file:\n",
    "    merges_tfs_2 = pickle.load(file)\n",
    "\n",
    "\n",
    "for i, aid in enumerate(merges_tfs_2['sorted'].keys()):\n",
    "    plot_timeline(merges_tfs_2, aid, merges_tfs_2['acq_date'][i])\n",
    "    print('==============================================================================================')"
   ]
  }
 ],
 "metadata": {
  "colab": {
   "authorship_tag": "ABX9TyM7SlF+X6mUWiNcXIOwRBf6",
   "collapsed_sections": [],
   "name": "demo-graphs.ipynb",
   "provenance": []
  },
  "kernelspec": {
   "display_name": "Python 3",
   "language": "python",
   "name": "python3"
  },
  "language_info": {
   "codemirror_mode": {
    "name": "ipython",
    "version": 3
   },
   "file_extension": ".py",
   "mimetype": "text/x-python",
   "name": "python",
   "nbconvert_exporter": "python",
   "pygments_lexer": "ipython3",
   "version": "3.7.7"
  },
  "pycharm": {
   "stem_cell": {
    "cell_type": "raw",
    "source": [],
    "metadata": {
     "collapsed": false
    }
   }
  }
 },
 "nbformat": 4,
 "nbformat_minor": 4
}